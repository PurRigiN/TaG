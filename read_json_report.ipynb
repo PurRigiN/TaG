{
 "cells": [
  {
   "cell_type": "code",
   "execution_count": 40,
   "metadata": {},
   "outputs": [],
   "source": [
    "import json\n",
    "\n",
    "# change this index\n",
    "# run all the cells below to show more details\n",
    "analyze_row_index = 33\n",
    "file_path = 'report/json_report.json'\n",
    "with open(file_path, 'r') as file:\n",
    "    data = json.load(file)"
   ]
  },
  {
   "cell_type": "code",
   "execution_count": 41,
   "metadata": {},
   "outputs": [
    {
     "name": "stdout",
     "output_type": "stream",
     "text": [
      "re_tp: 9\n",
      "re_fp: 0\n",
      "re_fn: 9\n",
      "因为提及没有识别正确，导致的一定无法被抽取的关系数量\n",
      "cnt_rel_could_not_be_predicted_me: 0\n",
      "因为共指消解错误，导致的一定无法被抽取的关系数量\n",
      "cnt_rel_could_not_be_predicted_coref: 0\n",
      "there are 5 sentences, 163 words in doc.\n",
      "sents:\n"
     ]
    },
    {
     "data": {
      "text/plain": [
       "['Queen of Housewives (; also known as My Wife Is a Superwoman ) is a 2009 South Korean romantic comedy television series , starring Kim Nam - joo , Oh Ji - ho , Yoon Sang - hyun , Lee Hye - young , Choi Cheol - ho , and Sunwoo Sun .',\n",
       " 'It depicts the life of \" naejo , \" housewives who devote their entire lives to their husbands \\' success , but with a more comedic and aggressive twist .',\n",
       " 'It aired on MBC from March 16 to May 19 , 2009 on Mondays and Tuesdays at 21:55 for 20 episodes .',\n",
       " 'The hit drama topped the ratings chart during its run , and created new trends among married women in terms of fashion and makeup .',\n",
       " 'Actress Kim Nam - joo received numerous accolades for her acting comeback after an 8-year hiatus , and the series also served as the breakout vehicle of actor Yoon Sang - hyun .']"
      ]
     },
     "execution_count": 41,
     "metadata": {},
     "output_type": "execute_result"
    }
   ],
   "source": [
    "row = data[analyze_row_index]\n",
    "print(f\"re_tp: {row['re_tp']}\")\n",
    "print(f\"re_fp: {row['re_fp']}\")\n",
    "print(f\"re_fn: {row['re_fn']}\")\n",
    "\n",
    "print(\"因为提及没有识别正确，导致的一定无法被抽取的关系数量\")\n",
    "print(f\"cnt_rel_could_not_be_predicted_me: {row['cnt_rel_could_not_be_predicted_me']}\")\n",
    "print(\"因为共指消解错误，导致的一定无法被抽取的关系数量\")\n",
    "print(f\"cnt_rel_could_not_be_predicted_coref: {row['cnt_rel_could_not_be_predicted_coref']}\")\n",
    "\n",
    "num_sents = row['num_sents']\n",
    "words = row['words']\n",
    "print(f'there are {num_sents} sentences, {words} words in doc.')\n",
    "print(f\"sents:\")\n",
    "row['sents']"
   ]
  },
  {
   "cell_type": "code",
   "execution_count": 42,
   "metadata": {},
   "outputs": [
    {
     "name": "stdout",
     "output_type": "stream",
     "text": [
      "预测正确的关系：\n",
      "predict_right_rel: 9\n"
     ]
    },
    {
     "data": {
      "text/plain": [
       "[{'h': [['Queen of Housewives', 'My Wife Is a Superwoman'],\n",
       "   [[[0, 0], [0, 3]], [[0, 7], [0, 12]]]],\n",
       "  't': [['Yoon Sang - hyun', 'Yoon Sang - hyun'],\n",
       "   [[[0, 34], [0, 38]], [[4, 28], [4, 32]]]],\n",
       "  'r': 'cast member'},\n",
       " {'h': [['Queen of Housewives', 'My Wife Is a Superwoman'],\n",
       "   [[[0, 0], [0, 3]], [[0, 7], [0, 12]]]],\n",
       "  't': [['Kim Nam - joo', 'Kim Nam - joo'],\n",
       "   [[[0, 24], [0, 28]], [[4, 1], [4, 5]]]],\n",
       "  'r': 'cast member'},\n",
       " {'h': [['Queen of Housewives', 'My Wife Is a Superwoman'],\n",
       "   [[[0, 0], [0, 3]], [[0, 7], [0, 12]]]],\n",
       "  't': [['MBC'], [[[2, 3], [2, 4]]]],\n",
       "  'r': 'original network'},\n",
       " {'h': [['Queen of Housewives', 'My Wife Is a Superwoman'],\n",
       "   [[[0, 0], [0, 3]], [[0, 7], [0, 12]]]],\n",
       "  't': [['Lee Hye - young'], [[[0, 39], [0, 43]]]],\n",
       "  'r': 'cast member'},\n",
       " {'h': [['Queen of Housewives', 'My Wife Is a Superwoman'],\n",
       "   [[[0, 0], [0, 3]], [[0, 7], [0, 12]]]],\n",
       "  't': [['Oh Ji - ho'], [[[0, 29], [0, 33]]]],\n",
       "  'r': 'cast member'},\n",
       " {'h': [['Queen of Housewives', 'My Wife Is a Superwoman'],\n",
       "   [[[0, 0], [0, 3]], [[0, 7], [0, 12]]]],\n",
       "  't': [['Choi Cheol - ho'], [[[0, 44], [0, 48]]]],\n",
       "  'r': 'cast member'},\n",
       " {'h': [['Queen of Housewives', 'My Wife Is a Superwoman'],\n",
       "   [[[0, 0], [0, 3]], [[0, 7], [0, 12]]]],\n",
       "  't': [['Sunwoo Sun'], [[[0, 50], [0, 52]]]],\n",
       "  'r': 'cast member'},\n",
       " {'h': [['Queen of Housewives', 'My Wife Is a Superwoman'],\n",
       "   [[[0, 0], [0, 3]], [[0, 7], [0, 12]]]],\n",
       "  't': [['South Korean'], [[[0, 16], [0, 18]]]],\n",
       "  'r': 'country of origin'},\n",
       " {'h': [['MBC'], [[[2, 3], [2, 4]]]],\n",
       "  't': [['South Korean'], [[[0, 16], [0, 18]]]],\n",
       "  'r': 'country'}]"
      ]
     },
     "execution_count": 42,
     "metadata": {},
     "output_type": "execute_result"
    }
   ],
   "source": [
    "print(\"预测正确的关系：\")\n",
    "print(f\"predict_right_rel: {len(row['predict_right_rel'])}\")\n",
    "row['predict_right_rel']"
   ]
  },
  {
   "cell_type": "code",
   "execution_count": 43,
   "metadata": {},
   "outputs": [
    {
     "name": "stdout",
     "output_type": "stream",
     "text": [
      "因为头尾实体没有出现在标签中而预测错误的：\n",
      "predict_wrong_rel_by_missing_head_tail: 0\n"
     ]
    },
    {
     "data": {
      "text/plain": [
       "[]"
      ]
     },
     "execution_count": 43,
     "metadata": {},
     "output_type": "execute_result"
    }
   ],
   "source": [
    "print(\"因为头尾实体没有出现在标签中而预测错误的：\")\n",
    "print(f\"predict_wrong_rel_by_missing_head_tail: {len(row['predict_wrong_rel_by_missing_head_tail'])}\")\n",
    "row['predict_wrong_rel_by_missing_head_tail']"
   ]
  },
  {
   "cell_type": "code",
   "execution_count": 44,
   "metadata": {},
   "outputs": [
    {
     "name": "stdout",
     "output_type": "stream",
     "text": [
      "因为头实体没有出现在标签中而预测错误的：\n",
      "predict_wrong_rel_by_missing_head: 0\n"
     ]
    },
    {
     "data": {
      "text/plain": [
       "[]"
      ]
     },
     "execution_count": 44,
     "metadata": {},
     "output_type": "execute_result"
    }
   ],
   "source": [
    "\n",
    "print(\"因为头实体没有出现在标签中而预测错误的：\")\n",
    "print(f\"predict_wrong_rel_by_missing_head: {len(row['predict_wrong_rel_by_missing_head'])}\")\n",
    "row['predict_wrong_rel_by_missing_head']"
   ]
  },
  {
   "cell_type": "code",
   "execution_count": 45,
   "metadata": {},
   "outputs": [
    {
     "name": "stdout",
     "output_type": "stream",
     "text": [
      "因为尾实体没有出现在标签中而预测错误的：\n",
      "predict_wrong_rel_by_missing_tail: 0\n"
     ]
    },
    {
     "data": {
      "text/plain": [
       "[]"
      ]
     },
     "execution_count": 45,
     "metadata": {},
     "output_type": "execute_result"
    }
   ],
   "source": [
    "print(\"因为尾实体没有出现在标签中而预测错误的：\")\n",
    "print(f\"predict_wrong_rel_by_missing_tail: {len(row['predict_wrong_rel_by_missing_tail'])}\")\n",
    "row['predict_wrong_rel_by_missing_tail']"
   ]
  },
  {
   "cell_type": "code",
   "execution_count": 46,
   "metadata": {},
   "outputs": [
    {
     "name": "stdout",
     "output_type": "stream",
     "text": [
      "头尾实体都在标签中，但关系预测错误的：\n",
      "predict_wrong_rel_left: 0\n"
     ]
    },
    {
     "data": {
      "text/plain": [
       "[]"
      ]
     },
     "execution_count": 46,
     "metadata": {},
     "output_type": "execute_result"
    }
   ],
   "source": [
    "print(\"头尾实体都在标签中，但关系预测错误的：\")\n",
    "print(f\"predict_wrong_rel_left: {len(row['predict_wrong_rel_left'])}\")\n",
    "row['predict_wrong_rel_left']"
   ]
  },
  {
   "cell_type": "code",
   "execution_count": 47,
   "metadata": {},
   "outputs": [
    {
     "name": "stdout",
     "output_type": "stream",
     "text": [
      "预测正确的关系：\n",
      "golden_rel_predicted: 9\n",
      "其中需要0 1 2 3 4 5 6+个证据句子才能推理出的关系数量分别为：\n",
      "golden_rel_predicted_cnt_evidence_0: 0\n",
      "golden_rel_predicted_cnt_evidence_1: 5\n",
      "golden_rel_predicted_cnt_evidence_2: 4\n",
      "golden_rel_predicted_cnt_evidence_3: 0\n",
      "golden_rel_predicted_cnt_evidence_4: 0\n",
      "golden_rel_predicted_cnt_evidence_5: 0\n",
      "golden_rel_predicted_cnt_evidence_6: 0\n"
     ]
    },
    {
     "data": {
      "text/plain": [
       "[{'h': [['MBC'], [[[2, 3], [2, 4]]]],\n",
       "  't': [['South Korean'], [[[0, 16], [0, 18]]]],\n",
       "  'r': 'country',\n",
       "  'evidence': [0, 2]},\n",
       " {'h': [['Queen of Housewives', 'My Wife Is a Superwoman'],\n",
       "   [[[0, 0], [0, 3]], [[0, 7], [0, 12]]]],\n",
       "  't': [['Kim Nam - joo', 'Kim Nam - joo'],\n",
       "   [[[0, 24], [0, 28]], [[4, 1], [4, 5]]]],\n",
       "  'r': 'cast member',\n",
       "  'evidence': [0, 4]},\n",
       " {'h': [['Queen of Housewives', 'My Wife Is a Superwoman'],\n",
       "   [[[0, 0], [0, 3]], [[0, 7], [0, 12]]]],\n",
       "  't': [['Oh Ji - ho'], [[[0, 29], [0, 33]]]],\n",
       "  'r': 'cast member',\n",
       "  'evidence': [0]},\n",
       " {'h': [['Queen of Housewives', 'My Wife Is a Superwoman'],\n",
       "   [[[0, 0], [0, 3]], [[0, 7], [0, 12]]]],\n",
       "  't': [['Yoon Sang - hyun', 'Yoon Sang - hyun'],\n",
       "   [[[0, 34], [0, 38]], [[4, 28], [4, 32]]]],\n",
       "  'r': 'cast member',\n",
       "  'evidence': [0, 4]},\n",
       " {'h': [['Queen of Housewives', 'My Wife Is a Superwoman'],\n",
       "   [[[0, 0], [0, 3]], [[0, 7], [0, 12]]]],\n",
       "  't': [['Lee Hye - young'], [[[0, 39], [0, 43]]]],\n",
       "  'r': 'cast member',\n",
       "  'evidence': [0]},\n",
       " {'h': [['Queen of Housewives', 'My Wife Is a Superwoman'],\n",
       "   [[[0, 0], [0, 3]], [[0, 7], [0, 12]]]],\n",
       "  't': [['Choi Cheol - ho'], [[[0, 44], [0, 48]]]],\n",
       "  'r': 'cast member',\n",
       "  'evidence': [0]},\n",
       " {'h': [['Queen of Housewives', 'My Wife Is a Superwoman'],\n",
       "   [[[0, 0], [0, 3]], [[0, 7], [0, 12]]]],\n",
       "  't': [['MBC'], [[[2, 3], [2, 4]]]],\n",
       "  'r': 'original network',\n",
       "  'evidence': [0, 2]},\n",
       " {'h': [['Queen of Housewives', 'My Wife Is a Superwoman'],\n",
       "   [[[0, 0], [0, 3]], [[0, 7], [0, 12]]]],\n",
       "  't': [['South Korean'], [[[0, 16], [0, 18]]]],\n",
       "  'r': 'country of origin',\n",
       "  'evidence': [0]},\n",
       " {'h': [['Queen of Housewives', 'My Wife Is a Superwoman'],\n",
       "   [[[0, 0], [0, 3]], [[0, 7], [0, 12]]]],\n",
       "  't': [['Sunwoo Sun'], [[[0, 50], [0, 52]]]],\n",
       "  'r': 'cast member',\n",
       "  'evidence': [0]}]"
      ]
     },
     "execution_count": 47,
     "metadata": {},
     "output_type": "execute_result"
    }
   ],
   "source": [
    "print(\"预测正确的关系：\")\n",
    "print(f\"golden_rel_predicted: {len(row['golden_rel_predicted'])}\")\n",
    "print('其中需要0 1 2 3 4 5 6+个证据句子才能推理出的关系数量分别为：')\n",
    "print(f'golden_rel_predicted_cnt_evidence_0: {row[\"golden_rel_predicted_cnt_evidence_0\"]}')\n",
    "print(f'golden_rel_predicted_cnt_evidence_1: {row[\"golden_rel_predicted_cnt_evidence_1\"]}')\n",
    "print(f'golden_rel_predicted_cnt_evidence_2: {row[\"golden_rel_predicted_cnt_evidence_2\"]}')\n",
    "print(f'golden_rel_predicted_cnt_evidence_3: {row[\"golden_rel_predicted_cnt_evidence_3\"]}')\n",
    "print(f'golden_rel_predicted_cnt_evidence_4: {row[\"golden_rel_predicted_cnt_evidence_4\"]}')\n",
    "print(f'golden_rel_predicted_cnt_evidence_5: {row[\"golden_rel_predicted_cnt_evidence_5\"]}')\n",
    "print(f'golden_rel_predicted_cnt_evidence_6: {row[\"golden_rel_predicted_cnt_evidence_6\"]}')\n",
    "row['golden_rel_predicted']"
   ]
  },
  {
   "cell_type": "code",
   "execution_count": 48,
   "metadata": {},
   "outputs": [
    {
     "name": "stdout",
     "output_type": "stream",
     "text": [
      "因为提及没有识别出来而无法被预测的关系：\n",
      "golden_rel_missing_span: 0\n"
     ]
    },
    {
     "data": {
      "text/plain": [
       "[]"
      ]
     },
     "execution_count": 48,
     "metadata": {},
     "output_type": "execute_result"
    }
   ],
   "source": [
    "print(\"因为提及没有识别出来而无法被预测的关系：\")\n",
    "print(f\"golden_rel_missing_span: {len(row['golden_rel_missing_span'])}\")\n",
    "row['golden_rel_missing_span']"
   ]
  },
  {
   "cell_type": "code",
   "execution_count": 49,
   "metadata": {},
   "outputs": [
    {
     "name": "stdout",
     "output_type": "stream",
     "text": [
      "因为共指消解没有识别出头尾实体，而无法被预测的关系：\n",
      "golden_rel_missing_head_and_tail: 0\n"
     ]
    },
    {
     "data": {
      "text/plain": [
       "[]"
      ]
     },
     "execution_count": 49,
     "metadata": {},
     "output_type": "execute_result"
    }
   ],
   "source": [
    "print(\"因为共指消解没有识别出头尾实体，而无法被预测的关系：\")\n",
    "print(f\"golden_rel_missing_head_and_tail: {len(row['golden_rel_missing_head_and_tail'])}\")\n",
    "row['golden_rel_missing_head_and_tail']"
   ]
  },
  {
   "cell_type": "code",
   "execution_count": 50,
   "metadata": {},
   "outputs": [
    {
     "name": "stdout",
     "output_type": "stream",
     "text": [
      "因为共指消解没有识别出头实体，而无法被预测的关系：\n",
      "golden_rel_missing_head: 0\n"
     ]
    },
    {
     "data": {
      "text/plain": [
       "[]"
      ]
     },
     "execution_count": 50,
     "metadata": {},
     "output_type": "execute_result"
    }
   ],
   "source": [
    "print(\"因为共指消解没有识别出头实体，而无法被预测的关系：\")\n",
    "print(f\"golden_rel_missing_head: {len(row['golden_rel_missing_head'])}\")\n",
    "row['golden_rel_missing_head']"
   ]
  },
  {
   "cell_type": "code",
   "execution_count": 51,
   "metadata": {},
   "outputs": [
    {
     "name": "stdout",
     "output_type": "stream",
     "text": [
      "因为共指消解没有识别出尾实体，而无法被预测的关系：\n",
      "golden_rel_missing_tail: 0\n"
     ]
    },
    {
     "data": {
      "text/plain": [
       "[]"
      ]
     },
     "execution_count": 51,
     "metadata": {},
     "output_type": "execute_result"
    }
   ],
   "source": [
    "print(\"因为共指消解没有识别出尾实体，而无法被预测的关系：\")\n",
    "print(f\"golden_rel_missing_tail: {len(row['golden_rel_missing_tail'])}\")\n",
    "row['golden_rel_missing_tail']"
   ]
  },
  {
   "cell_type": "code",
   "execution_count": 52,
   "metadata": {},
   "outputs": [
    {
     "name": "stdout",
     "output_type": "stream",
     "text": [
      "头尾实体都已经识别出来，但没有被预测的关系：\n",
      "golden_rel_not_predicted: 9\n",
      "其中需要0 1 2 3 4 5 6+个证据句子才能推理出的关系数量分别为：\n",
      "golden_rel_not_predicted_cnt_evidence_0: 0\n",
      "golden_rel_not_predicted_cnt_evidence_1: 7\n",
      "golden_rel_not_predicted_cnt_evidence_2: 2\n",
      "golden_rel_not_predicted_cnt_evidence_3: 0\n",
      "golden_rel_not_predicted_cnt_evidence_4: 0\n",
      "golden_rel_not_predicted_cnt_evidence_5: 0\n",
      "golden_rel_not_predicted_cnt_evidence_6: 0\n"
     ]
    },
    {
     "data": {
      "text/plain": [
       "[{'h': [['Kim Nam - joo', 'Kim Nam - joo'],\n",
       "   [[[0, 24], [0, 28]], [[4, 1], [4, 5]]]],\n",
       "  't': [['South Korean'], [[[0, 16], [0, 18]]]],\n",
       "  'r': 'country of citizenship',\n",
       "  'evidence': [0]},\n",
       " {'h': [['Oh Ji - ho'], [[[0, 29], [0, 33]]]],\n",
       "  't': [['South Korean'], [[[0, 16], [0, 18]]]],\n",
       "  'r': 'country of citizenship',\n",
       "  'evidence': [0]},\n",
       " {'h': [['Yoon Sang - hyun', 'Yoon Sang - hyun'],\n",
       "   [[[0, 34], [0, 38]], [[4, 28], [4, 32]]]],\n",
       "  't': [['South Korean'], [[[0, 16], [0, 18]]]],\n",
       "  'r': 'country of citizenship',\n",
       "  'evidence': [0]},\n",
       " {'h': [['Lee Hye - young'], [[[0, 39], [0, 43]]]],\n",
       "  't': [['South Korean'], [[[0, 16], [0, 18]]]],\n",
       "  'r': 'country of citizenship',\n",
       "  'evidence': [0]},\n",
       " {'h': [['Choi Cheol - ho'], [[[0, 44], [0, 48]]]],\n",
       "  't': [['South Korean'], [[[0, 16], [0, 18]]]],\n",
       "  'r': 'country of citizenship',\n",
       "  'evidence': [0]},\n",
       " {'h': [['Queen of Housewives', 'My Wife Is a Superwoman'],\n",
       "   [[[0, 0], [0, 3]], [[0, 7], [0, 12]]]],\n",
       "  't': [['2009'], [[[0, 15], [0, 16]]]],\n",
       "  'r': 'publication date',\n",
       "  'evidence': [0]},\n",
       " {'h': [['Queen of Housewives', 'My Wife Is a Superwoman'],\n",
       "   [[[0, 0], [0, 3]], [[0, 7], [0, 12]]]],\n",
       "  't': [['2009'], [[[0, 15], [0, 16]]]],\n",
       "  'r': 'start time',\n",
       "  'evidence': [0, 2]},\n",
       " {'h': [['Queen of Housewives', 'My Wife Is a Superwoman'],\n",
       "   [[[0, 0], [0, 3]], [[0, 7], [0, 12]]]],\n",
       "  't': [['2009'], [[[0, 15], [0, 16]]]],\n",
       "  'r': 'end time',\n",
       "  'evidence': [0, 2]},\n",
       " {'h': [['Sunwoo Sun'], [[[0, 50], [0, 52]]]],\n",
       "  't': [['South Korean'], [[[0, 16], [0, 18]]]],\n",
       "  'r': 'country of citizenship',\n",
       "  'evidence': [0]}]"
      ]
     },
     "execution_count": 52,
     "metadata": {},
     "output_type": "execute_result"
    }
   ],
   "source": [
    "print(\"头尾实体都已经识别出来，但没有被预测的关系：\")\n",
    "print(f\"golden_rel_not_predicted: {len(row['golden_rel_not_predicted'])}\")\n",
    "print('其中需要0 1 2 3 4 5 6+个证据句子才能推理出的关系数量分别为：')\n",
    "print(f'golden_rel_not_predicted_cnt_evidence_0: {row[\"golden_rel_not_predicted_cnt_evidence_0\"]}')\n",
    "print(f'golden_rel_not_predicted_cnt_evidence_1: {row[\"golden_rel_not_predicted_cnt_evidence_1\"]}')\n",
    "print(f'golden_rel_not_predicted_cnt_evidence_2: {row[\"golden_rel_not_predicted_cnt_evidence_2\"]}')\n",
    "print(f'golden_rel_not_predicted_cnt_evidence_3: {row[\"golden_rel_not_predicted_cnt_evidence_3\"]}')\n",
    "print(f'golden_rel_not_predicted_cnt_evidence_4: {row[\"golden_rel_not_predicted_cnt_evidence_4\"]}')\n",
    "print(f'golden_rel_not_predicted_cnt_evidence_5: {row[\"golden_rel_not_predicted_cnt_evidence_5\"]}')\n",
    "print(f'golden_rel_not_predicted_cnt_evidence_6: {row[\"golden_rel_not_predicted_cnt_evidence_6\"]}')\n",
    "row['golden_rel_not_predicted']"
   ]
  }
 ],
 "metadata": {
  "kernelspec": {
   "display_name": "tag",
   "language": "python",
   "name": "python3"
  },
  "language_info": {
   "codemirror_mode": {
    "name": "ipython",
    "version": 3
   },
   "file_extension": ".py",
   "mimetype": "text/x-python",
   "name": "python",
   "nbconvert_exporter": "python",
   "pygments_lexer": "ipython3",
   "version": "3.8.10"
  }
 },
 "nbformat": 4,
 "nbformat_minor": 2
}
