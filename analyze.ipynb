{
 "cells": [
  {
   "cell_type": "code",
   "execution_count": 1,
   "metadata": {},
   "outputs": [
    {
     "data": {
      "text/plain": [
       "[['Adolfo',\n",
       "  'Nicolás',\n",
       "  'Pachón',\n",
       "  '(',\n",
       "  'born',\n",
       "  '29',\n",
       "  'April',\n",
       "  '1936',\n",
       "  ')',\n",
       "  ',',\n",
       "  'is',\n",
       "  'a',\n",
       "  'Spanish',\n",
       "  'priest',\n",
       "  'of',\n",
       "  'the',\n",
       "  'Roman',\n",
       "  'Catholic',\n",
       "  'Church',\n",
       "  '.'],\n",
       " ['He',\n",
       "  'was',\n",
       "  'the',\n",
       "  'thirtieth',\n",
       "  'Superior',\n",
       "  'General',\n",
       "  'of',\n",
       "  'the',\n",
       "  'Society',\n",
       "  'of',\n",
       "  'Jesus',\n",
       "  ',',\n",
       "  'the',\n",
       "  'largest',\n",
       "  'religious',\n",
       "  'order',\n",
       "  'in',\n",
       "  'the',\n",
       "  'Roman',\n",
       "  'Catholic',\n",
       "  'Church',\n",
       "  '.'],\n",
       " ['Nicolás',\n",
       "  ',',\n",
       "  'after',\n",
       "  'consulting',\n",
       "  'with',\n",
       "  'Pope',\n",
       "  'Francis',\n",
       "  ',',\n",
       "  'determined',\n",
       "  'to',\n",
       "  'resign',\n",
       "  'after',\n",
       "  'his',\n",
       "  '80th',\n",
       "  'birthday',\n",
       "  ',',\n",
       "  'and',\n",
       "  'initiated',\n",
       "  'the',\n",
       "  'process',\n",
       "  'of',\n",
       "  'calling',\n",
       "  'a',\n",
       "  'Jesuit',\n",
       "  'General',\n",
       "  'Congregation',\n",
       "  'to',\n",
       "  'elect',\n",
       "  'his',\n",
       "  'successor',\n",
       "  '.'],\n",
       " ['Until',\n",
       "  'the',\n",
       "  'resignation',\n",
       "  'of',\n",
       "  'his',\n",
       "  'predecessor',\n",
       "  ',',\n",
       "  'Peter',\n",
       "  'Hans',\n",
       "  'Kolvenbach',\n",
       "  ',',\n",
       "  'it',\n",
       "  'was',\n",
       "  'not',\n",
       "  'the',\n",
       "  'norm',\n",
       "  'for',\n",
       "  'a',\n",
       "  'Jesuit',\n",
       "  'Superior',\n",
       "  'General',\n",
       "  'to',\n",
       "  'resign',\n",
       "  ';',\n",
       "  'they',\n",
       "  ',',\n",
       "  'like',\n",
       "  'the',\n",
       "  'great',\n",
       "  'majority',\n",
       "  'of',\n",
       "  'the',\n",
       "  'Popes',\n",
       "  'up',\n",
       "  'until',\n",
       "  'Benedict',\n",
       "  'XVI',\n",
       "  ',',\n",
       "  'generally',\n",
       "  'served',\n",
       "  'until',\n",
       "  'death',\n",
       "  '.'],\n",
       " ['However',\n",
       "  ',',\n",
       "  'the',\n",
       "  'Jesuit',\n",
       "  'constitutions',\n",
       "  'include',\n",
       "  'provision',\n",
       "  'for',\n",
       "  'a',\n",
       "  'resignation',\n",
       "  '.'],\n",
       " ['In',\n",
       "  'October',\n",
       "  '2016',\n",
       "  'the',\n",
       "  'thirty',\n",
       "  '-',\n",
       "  'sixth',\n",
       "  'General',\n",
       "  'Congregation',\n",
       "  'of',\n",
       "  'the',\n",
       "  'Society',\n",
       "  'of',\n",
       "  'Jesus',\n",
       "  'appointed',\n",
       "  'his',\n",
       "  'successor',\n",
       "  ',',\n",
       "  'Arturo',\n",
       "  'Sosa',\n",
       "  'from',\n",
       "  'Venezuela',\n",
       "  '.']]"
      ]
     },
     "execution_count": 1,
     "metadata": {},
     "output_type": "execute_result"
    }
   ],
   "source": [
    "# case study\n",
    "import json\n",
    "\n",
    "analyze_row_index = 650\n",
    "file_path = 'report/anaphors-2.1/docred/report.json'\n",
    "with open(file_path, 'r') as file:\n",
    "    data = json.load(file)\n",
    "data[analyze_row_index]['sents']"
   ]
  },
  {
   "cell_type": "code",
   "execution_count": 2,
   "metadata": {},
   "outputs": [
    {
     "data": {
      "text/plain": [
       "'Adolfo Nicolás Pachón'"
      ]
     },
     "execution_count": 2,
     "metadata": {},
     "output_type": "execute_result"
    }
   ],
   "source": [
    "def span_to_words(sents, span) -> str:\n",
    "    index_of_sent = span[0][0]\n",
    "    start = span[0][1]\n",
    "    end = span[1][1]\n",
    "    words = sents[index_of_sent][start:end]\n",
    "    return ' '.join(words)\n",
    "\n",
    "span_to_words(data[analyze_row_index]['sents'], data[analyze_row_index]['raw_spans'][0])"
   ]
  },
  {
   "cell_type": "code",
   "execution_count": 3,
   "metadata": {},
   "outputs": [
    {
     "data": {
      "text/plain": [
       "['Adolfo Nicolás Pachón ( born 29 April 1936 ) , is a Spanish priest of the Roman Catholic Church .',\n",
       " 'He was the thirtieth Superior General of the Society of Jesus , the largest religious order in the Roman Catholic Church .',\n",
       " 'Nicolás , after consulting with Pope Francis , determined to resign after his 80th birthday , and initiated the process of calling a Jesuit General Congregation to elect his successor .',\n",
       " 'Until the resignation of his predecessor , Peter Hans Kolvenbach , it was not the norm for a Jesuit Superior General to resign ; they , like the great majority of the Popes up until Benedict XVI , generally served until death .',\n",
       " 'However , the Jesuit constitutions include provision for a resignation .',\n",
       " 'In October 2016 the thirty - sixth General Congregation of the Society of Jesus appointed his successor , Arturo Sosa from Venezuela .']"
      ]
     },
     "execution_count": 3,
     "metadata": {},
     "output_type": "execute_result"
    }
   ],
   "source": [
    "def join_sents_words(sents):\n",
    "    return [' '.join(sent) for sent in sents]\n",
    "join_sents_words(data[analyze_row_index]['sents'])"
   ]
  },
  {
   "cell_type": "code",
   "execution_count": 4,
   "metadata": {},
   "outputs": [
    {
     "data": {
      "text/plain": [
       "(['Jesuit', 'Jesuit'], [[[4, 3], [4, 4]], [[3, 18], [3, 19]]])"
      ]
     },
     "execution_count": 4,
     "metadata": {},
     "output_type": "execute_result"
    }
   ],
   "source": [
    "def cluster_to_words(sents, span, cluster):\n",
    "    words = []\n",
    "    spans = []\n",
    "    for i in cluster:\n",
    "        if i != -1:\n",
    "            words.append(span_to_words(sents, span[i]))\n",
    "            spans.append(span[i])\n",
    "        else:\n",
    "            words.append('None')\n",
    "            spans.append('None')\n",
    "    return words, spans\n",
    "\n",
    "cluster_to_words(data[analyze_row_index]['sents'], data[analyze_row_index]['raw_spans'], data[analyze_row_index]['clusters_pred'][0])"
   ]
  },
  {
   "cell_type": "code",
   "execution_count": 5,
   "metadata": {},
   "outputs": [
    {
     "data": {
      "text/plain": [
       "{'h': (['Adolfo Nicolás Pachón', 'Nicolás'],\n",
       "  [[[0, 0], [0, 3]], [[2, 0], [2, 1]]]),\n",
       " 't': (['29 April 1936'], [[[0, 5], [0, 8]]]),\n",
       " 'r': 'date of birth'}"
      ]
     },
     "execution_count": 5,
     "metadata": {},
     "output_type": "execute_result"
    }
   ],
   "source": [
    "import json\n",
    "rel_info_path = 'data/docred/rel_info.json'\n",
    "rel2id_path = 'data/docred/rel2id.json'\n",
    "with open(rel_info_path, 'r') as file:\n",
    "    rel_info = json.load(file)\n",
    "with open(rel2id_path, 'r') as file:\n",
    "    rel2id = json.load(file)\n",
    "\n",
    "id2rel_info = {}\n",
    "for k, v in rel2id.items():\n",
    "    if v != 0:\n",
    "        id2rel_info[v] = rel_info[k]\n",
    "id2rel = {}\n",
    "for k, v in rel2id.items():\n",
    "    if v != 0:\n",
    "        id2rel[v] = k\n",
    "\n",
    "def visualize_rel(sents, span, rel, clusters, id2rel_info: dict, evidence :list=None):\n",
    "    if(rel['h'] != -1):\n",
    "        head = cluster_to_words(sents, span, clusters[rel['h']])\n",
    "    else:\n",
    "        head = 'None'\n",
    "    if(rel['t'] != -1):\n",
    "        tail = cluster_to_words(sents, span, clusters[rel['t']])\n",
    "    else:\n",
    "        tail = 'None'\n",
    "    rel_info = id2rel_info[rel['r']]\n",
    "    v_rel = {}\n",
    "    v_rel['h'] = head\n",
    "    v_rel['t'] = tail\n",
    "    v_rel['r'] = rel_info\n",
    "    if evidence != None:\n",
    "        v_rel['evidence'] = evidence\n",
    "    return v_rel\n",
    "\n",
    "visualize_rel(data[analyze_row_index]['sents'], data[analyze_row_index]['raw_spans'], data[analyze_row_index]['rels_gold'][0], data[analyze_row_index]['clusters_gold'], id2rel_info)"
   ]
  },
  {
   "cell_type": "code",
   "execution_count": 6,
   "metadata": {},
   "outputs": [],
   "source": [
    "def find_evidence(rel, id2rel, labels):\n",
    "    rel_h = rel['h']\n",
    "    rel_t = rel['t']\n",
    "    rel_r = id2rel[rel['r']]\n",
    "    for i in labels:\n",
    "        if rel_h==i['h'] and rel_t==i['t'] and rel_r==i['r']:\n",
    "            return i['evidence']\n",
    "    return None\n",
    "        "
   ]
  },
  {
   "cell_type": "code",
   "execution_count": 7,
   "metadata": {},
   "outputs": [],
   "source": [
    "def transform_row(row, id2rel_info, id2rel):\n",
    "    result_dict = {}\n",
    "    result_dict['sents'] = join_sents_words(row['sents'])\n",
    "    num_sents = len(result_dict['sents'])\n",
    "    result_dict['num_sents'] = num_sents\n",
    "    words = 0\n",
    "    for sent in row['sents']:\n",
    "        words += len(sent)\n",
    "    result_dict['words'] = words\n",
    "    result_dict['re_tp'] = row['re_tp']\n",
    "    result_dict['re_fp'] = row['re_fp']\n",
    "    result_dict['re_fn'] = row['re_fn']\n",
    "    result_dict['reverse_cluster_map'] = row['reverse_cluster_map']\n",
    "    result_dict['cnt_rel_could_not_be_predicted_me'] = row['cnt_rel_could_not_be_predicted_me']\n",
    "    result_dict['cnt_rel_could_not_be_predicted_coref'] = row['cnt_rel_could_not_be_predicted_coref']\n",
    "    \n",
    "    rels_pred = row['rels_pred']\n",
    "    rels_gold = row['rels_gold']\n",
    "    clusters_gold = row['clusters_gold']\n",
    "    predict_right_rel = []\n",
    "    predict_wrong_rel_by_missing_head_tail = []\n",
    "    predict_wrong_rel_by_missing_head = []\n",
    "    predict_wrong_rel_by_missing_tail = []\n",
    "    predict_wrong_rel_left = []\n",
    "    cluster_map = row['cluster_map']\n",
    "    golden_rel_predicted_indexs = []\n",
    "    for rel in rels_pred:\n",
    "        mapped_rel = {'h': cluster_map[str(rel['h'])], 't': cluster_map[str(rel['t'])], 'r': rel['r']}\n",
    "        v_rel = visualize_rel(row['sents'], row['raw_spans'], rel, row['clusters_pred'], id2rel_info)\n",
    "        if mapped_rel in rels_gold:\n",
    "            predict_right_rel.append(v_rel)\n",
    "            golden_rel_predicted_indexs.append(rels_gold.index(mapped_rel))\n",
    "        elif mapped_rel['h'] == -1 and mapped_rel['t'] == -1:\n",
    "            predict_wrong_rel_by_missing_head_tail.append(v_rel)\n",
    "        elif mapped_rel['h'] == -1 :\n",
    "            predict_wrong_rel_by_missing_head.append(v_rel)\n",
    "        elif mapped_rel['t'] == -1 :\n",
    "            predict_wrong_rel_by_missing_tail.append(v_rel)\n",
    "        else:\n",
    "            predict_wrong_rel_left.append(v_rel)\n",
    "    result_dict['predict_right_rel'] = predict_right_rel\n",
    "    result_dict['predict_wrong_rel_by_missing_head_tail'] = predict_wrong_rel_by_missing_head_tail\n",
    "    result_dict['predict_wrong_rel_by_missing_head'] = predict_wrong_rel_by_missing_head\n",
    "    result_dict['predict_wrong_rel_by_missing_tail'] = predict_wrong_rel_by_missing_tail\n",
    "    result_dict['predict_wrong_rel_left'] = predict_wrong_rel_left\n",
    "    \n",
    "    # rel_gold\n",
    "    golden_rel_predicted = []\n",
    "    golden_rel_missing_span = []\n",
    "    golden_rel_missing_head_and_tail = []\n",
    "    golden_rel_missing_head = []\n",
    "    golden_rel_missing_tail = []\n",
    "    golden_rel_not_predicted = []\n",
    "    labels = row['labels'] if 'labels' in row else []\n",
    "    reverse_cluster_map = result_dict['reverse_cluster_map']\n",
    "    for index, rel in enumerate(rels_gold):\n",
    "        evidence = find_evidence(rel, id2rel, labels)\n",
    "        v_rel = visualize_rel(row['sents'], row['raw_spans'], rel, row['clusters_gold'], id2rel_info, evidence)\n",
    "        if index in golden_rel_predicted_indexs:\n",
    "            golden_rel_predicted.append(v_rel)\n",
    "        elif -1 in clusters_gold[rel['h']] or -1 in clusters_gold[rel['t']] :\n",
    "            golden_rel_missing_span.append(v_rel)\n",
    "        elif reverse_cluster_map[str(rel['h'])] == -1 and reverse_cluster_map[str(rel['t'])] == -1 :\n",
    "            golden_rel_missing_head_and_tail.append(v_rel)\n",
    "        elif reverse_cluster_map[str(rel['h'])] == -1:\n",
    "            golden_rel_missing_head.append(v_rel)\n",
    "        elif reverse_cluster_map[str(rel['t'])] == -1:\n",
    "            golden_rel_missing_tail.append(v_rel)\n",
    "        else:\n",
    "            golden_rel_not_predicted.append(v_rel)\n",
    "    result_dict['golden_rel_predicted'] = golden_rel_predicted\n",
    "    result_dict['golden_rel_missing_span'] = golden_rel_missing_span\n",
    "    result_dict['golden_rel_missing_head_and_tail'] = golden_rel_missing_head_and_tail\n",
    "    result_dict['golden_rel_missing_head'] = golden_rel_missing_head\n",
    "    result_dict['golden_rel_missing_tail'] = golden_rel_missing_tail\n",
    "    result_dict['golden_rel_not_predicted'] = golden_rel_not_predicted\n",
    "    golden_rel_predicted_cnt_evidence_0 = 0\n",
    "    golden_rel_predicted_cnt_evidence_1 = 0\n",
    "    golden_rel_predicted_cnt_evidence_2 = 0\n",
    "    golden_rel_predicted_cnt_evidence_3 = 0\n",
    "    golden_rel_predicted_cnt_evidence_4 = 0\n",
    "    golden_rel_predicted_cnt_evidence_5 = 0\n",
    "    golden_rel_predicted_cnt_evidence_6 = 0  # more than 6\n",
    "    for rel in golden_rel_predicted:\n",
    "        if 'evidence' in rel:\n",
    "            if len(rel['evidence']) == 0:\n",
    "                golden_rel_predicted_cnt_evidence_0 += 1\n",
    "            elif len(rel['evidence']) == 1:\n",
    "                golden_rel_predicted_cnt_evidence_1 += 1\n",
    "            elif len(rel['evidence']) == 2:\n",
    "                golden_rel_predicted_cnt_evidence_2 += 1\n",
    "            elif len(rel['evidence']) == 3:\n",
    "                golden_rel_predicted_cnt_evidence_3 += 1\n",
    "            elif len(rel['evidence']) == 4:\n",
    "                golden_rel_predicted_cnt_evidence_4 += 1\n",
    "            elif len(rel['evidence']) == 5:\n",
    "                golden_rel_predicted_cnt_evidence_5 += 1\n",
    "            else:\n",
    "                golden_rel_predicted_cnt_evidence_6 += 1\n",
    "    result_dict['golden_rel_predicted_cnt_evidence_0'] = golden_rel_predicted_cnt_evidence_0\n",
    "    result_dict['golden_rel_predicted_cnt_evidence_1'] = golden_rel_predicted_cnt_evidence_1\n",
    "    result_dict['golden_rel_predicted_cnt_evidence_2'] = golden_rel_predicted_cnt_evidence_2\n",
    "    result_dict['golden_rel_predicted_cnt_evidence_3'] = golden_rel_predicted_cnt_evidence_3\n",
    "    result_dict['golden_rel_predicted_cnt_evidence_4'] = golden_rel_predicted_cnt_evidence_4\n",
    "    result_dict['golden_rel_predicted_cnt_evidence_5'] = golden_rel_predicted_cnt_evidence_5\n",
    "    result_dict['golden_rel_predicted_cnt_evidence_6'] = golden_rel_predicted_cnt_evidence_6\n",
    "    \n",
    "    golden_rel_missing_cnt_evidence_0 = 0\n",
    "    golden_rel_missing_cnt_evidence_1 = 0\n",
    "    golden_rel_missing_cnt_evidence_2 = 0\n",
    "    golden_rel_missing_cnt_evidence_3 = 0\n",
    "    golden_rel_missing_cnt_evidence_4 = 0\n",
    "    golden_rel_missing_cnt_evidence_5 = 0\n",
    "    golden_rel_missing_cnt_evidence_6 = 0\n",
    "    \n",
    "    for rel in golden_rel_missing_span:\n",
    "        if 'evidence' in rel:\n",
    "            if len(rel['evidence']) == 0:\n",
    "                golden_rel_missing_cnt_evidence_0 += 1\n",
    "            elif len(rel['evidence']) == 1:\n",
    "                golden_rel_missing_cnt_evidence_1 += 1\n",
    "            elif len(rel['evidence']) == 2:\n",
    "                golden_rel_missing_cnt_evidence_2 += 1\n",
    "            elif len(rel['evidence']) == 3:\n",
    "                golden_rel_missing_cnt_evidence_3 += 1\n",
    "            elif len(rel['evidence']) == 4:\n",
    "                golden_rel_missing_cnt_evidence_4 += 1\n",
    "            elif len(rel['evidence']) == 5:\n",
    "                golden_rel_missing_cnt_evidence_5 += 1\n",
    "            else:\n",
    "                golden_rel_missing_cnt_evidence_6 += 1\n",
    "    for rel in golden_rel_missing_head_and_tail:\n",
    "        if 'evidence' in rel:\n",
    "            if len(rel['evidence']) == 0:\n",
    "                golden_rel_missing_cnt_evidence_0 += 1\n",
    "            elif len(rel['evidence']) == 1:\n",
    "                golden_rel_missing_cnt_evidence_1 += 1\n",
    "            elif len(rel['evidence']) == 2:\n",
    "                golden_rel_missing_cnt_evidence_2 += 1\n",
    "            elif len(rel['evidence']) == 3:\n",
    "                golden_rel_missing_cnt_evidence_3 += 1\n",
    "            elif len(rel['evidence']) == 4:\n",
    "                golden_rel_missing_cnt_evidence_4 += 1\n",
    "            elif len(rel['evidence']) == 5:\n",
    "                golden_rel_missing_cnt_evidence_5 += 1\n",
    "            else:\n",
    "                golden_rel_missing_cnt_evidence_6 += 1\n",
    "    for rel in golden_rel_missing_head:\n",
    "        if 'evidence' in rel:\n",
    "            if len(rel['evidence']) == 0:\n",
    "                golden_rel_missing_cnt_evidence_0 += 1\n",
    "            elif len(rel['evidence']) == 1:\n",
    "                golden_rel_missing_cnt_evidence_1 += 1\n",
    "            elif len(rel['evidence']) == 2:\n",
    "                golden_rel_missing_cnt_evidence_2 += 1\n",
    "            elif len(rel['evidence']) == 3:\n",
    "                golden_rel_missing_cnt_evidence_3 += 1\n",
    "            elif len(rel['evidence']) == 4:\n",
    "                golden_rel_missing_cnt_evidence_4 += 1\n",
    "            elif len(rel['evidence']) == 5:\n",
    "                golden_rel_missing_cnt_evidence_5 += 1\n",
    "            else:\n",
    "                golden_rel_missing_cnt_evidence_6 += 1\n",
    "    for rel in golden_rel_missing_tail:\n",
    "        if 'evidence' in rel:\n",
    "            if len(rel['evidence']) == 0:\n",
    "                golden_rel_missing_cnt_evidence_0 += 1\n",
    "            elif len(rel['evidence']) == 1:\n",
    "                golden_rel_missing_cnt_evidence_1 += 1\n",
    "            elif len(rel['evidence']) == 2:\n",
    "                golden_rel_missing_cnt_evidence_2 += 1\n",
    "            elif len(rel['evidence']) == 3:\n",
    "                golden_rel_missing_cnt_evidence_3 += 1\n",
    "            elif len(rel['evidence']) == 4:\n",
    "                golden_rel_missing_cnt_evidence_4 += 1\n",
    "            elif len(rel['evidence']) == 5:\n",
    "                golden_rel_missing_cnt_evidence_5 += 1\n",
    "            else:\n",
    "                golden_rel_missing_cnt_evidence_6 += 1\n",
    "    \n",
    "    result_dict['golden_rel_missing_cnt_evidence_0'] = golden_rel_missing_cnt_evidence_0\n",
    "    result_dict['golden_rel_missing_cnt_evidence_1'] = golden_rel_missing_cnt_evidence_1\n",
    "    result_dict['golden_rel_missing_cnt_evidence_2'] = golden_rel_missing_cnt_evidence_2\n",
    "    result_dict['golden_rel_missing_cnt_evidence_3'] = golden_rel_missing_cnt_evidence_3\n",
    "    result_dict['golden_rel_missing_cnt_evidence_4'] = golden_rel_missing_cnt_evidence_4\n",
    "    result_dict['golden_rel_missing_cnt_evidence_5'] = golden_rel_missing_cnt_evidence_5\n",
    "    result_dict['golden_rel_missing_cnt_evidence_6'] = golden_rel_missing_cnt_evidence_6\n",
    "    \n",
    "    golden_rel_not_predicted_cnt_evidence_0 = 0\n",
    "    golden_rel_not_predicted_cnt_evidence_1 = 0\n",
    "    golden_rel_not_predicted_cnt_evidence_2 = 0\n",
    "    golden_rel_not_predicted_cnt_evidence_3 = 0\n",
    "    golden_rel_not_predicted_cnt_evidence_4 = 0\n",
    "    golden_rel_not_predicted_cnt_evidence_5 = 0\n",
    "    golden_rel_not_predicted_cnt_evidence_6 = 0\n",
    "    for rel in golden_rel_not_predicted:\n",
    "        if 'evidence' in rel:\n",
    "            if len(rel['evidence']) == 0:\n",
    "                golden_rel_not_predicted_cnt_evidence_0 += 1\n",
    "            elif len(rel['evidence']) == 1:\n",
    "                golden_rel_not_predicted_cnt_evidence_1 += 1\n",
    "            elif len(rel['evidence']) == 2:\n",
    "                golden_rel_not_predicted_cnt_evidence_2 += 1\n",
    "            elif len(rel['evidence']) == 3:\n",
    "                golden_rel_not_predicted_cnt_evidence_3 += 1\n",
    "            elif len(rel['evidence']) == 4:\n",
    "                golden_rel_not_predicted_cnt_evidence_4 += 1\n",
    "            elif len(rel['evidence']) == 5:\n",
    "                golden_rel_not_predicted_cnt_evidence_5 += 1\n",
    "            else:\n",
    "                golden_rel_not_predicted_cnt_evidence_6 += 1\n",
    "    result_dict['golden_rel_not_predicted_cnt_evidence_0'] = golden_rel_not_predicted_cnt_evidence_0\n",
    "    result_dict['golden_rel_not_predicted_cnt_evidence_1'] = golden_rel_not_predicted_cnt_evidence_1\n",
    "    result_dict['golden_rel_not_predicted_cnt_evidence_2'] = golden_rel_not_predicted_cnt_evidence_2\n",
    "    result_dict['golden_rel_not_predicted_cnt_evidence_3'] = golden_rel_not_predicted_cnt_evidence_3\n",
    "    result_dict['golden_rel_not_predicted_cnt_evidence_4'] = golden_rel_not_predicted_cnt_evidence_4\n",
    "    result_dict['golden_rel_not_predicted_cnt_evidence_5'] = golden_rel_not_predicted_cnt_evidence_5\n",
    "    result_dict['golden_rel_not_predicted_cnt_evidence_6'] = golden_rel_not_predicted_cnt_evidence_6\n",
    "\n",
    "    return result_dict\n"
   ]
  },
  {
   "cell_type": "code",
   "execution_count": 8,
   "metadata": {},
   "outputs": [
    {
     "name": "stdout",
     "output_type": "stream",
     "text": [
      "cnt_rel_could_not_be_predicted_me: 1\n",
      "cnt_rel_could_not_be_predicted_coref: 0\n",
      "there are 6 sentences, 150 words in doc.\n",
      "sents:\n"
     ]
    },
    {
     "data": {
      "text/plain": [
       "['Adolfo Nicolás Pachón ( born 29 April 1936 ) , is a Spanish priest of the Roman Catholic Church .',\n",
       " 'He was the thirtieth Superior General of the Society of Jesus , the largest religious order in the Roman Catholic Church .',\n",
       " 'Nicolás , after consulting with Pope Francis , determined to resign after his 80th birthday , and initiated the process of calling a Jesuit General Congregation to elect his successor .',\n",
       " 'Until the resignation of his predecessor , Peter Hans Kolvenbach , it was not the norm for a Jesuit Superior General to resign ; they , like the great majority of the Popes up until Benedict XVI , generally served until death .',\n",
       " 'However , the Jesuit constitutions include provision for a resignation .',\n",
       " 'In October 2016 the thirty - sixth General Congregation of the Society of Jesus appointed his successor , Arturo Sosa from Venezuela .']"
      ]
     },
     "execution_count": 8,
     "metadata": {},
     "output_type": "execute_result"
    }
   ],
   "source": [
    "row = data[analyze_row_index]\n",
    "\n",
    "transform_result = transform_row(row, id2rel_info, id2rel)\n",
    "print(f\"cnt_rel_could_not_be_predicted_me: {transform_result['cnt_rel_could_not_be_predicted_me']}\")\n",
    "print(f\"cnt_rel_could_not_be_predicted_coref: {transform_result['cnt_rel_could_not_be_predicted_coref']}\")\n",
    "\n",
    "num_sents = transform_result['num_sents']\n",
    "words = transform_result['words']\n",
    "print(f'there are {num_sents} sentences, {words} words in doc.')\n",
    "print(f\"sents:\")\n",
    "transform_result['sents']"
   ]
  },
  {
   "cell_type": "code",
   "execution_count": 9,
   "metadata": {},
   "outputs": [
    {
     "name": "stdout",
     "output_type": "stream",
     "text": [
      "(['Jesuit', 'Jesuit'], [[[4, 3], [4, 4]], [[3, 18], [3, 19]]])\n",
      "(['Adolfo Nicolás Pachón', 'Nicolás'], [[[0, 0], [0, 3]], [[2, 0], [2, 1]]])\n",
      "(['Roman Catholic Church', 'Roman Catholic Church'], [[[0, 16], [0, 19]], [[1, 18], [1, 21]]])\n",
      "(['October 2016'], [[[5, 1], [5, 3]]])\n",
      "(['Benedict XVI'], [[[3, 35], [3, 37]]])\n",
      "(['General Congregation of the Society of Jesus'], [[[5, 7], [5, 14]]])\n",
      "(['Arturo Sosa'], [[[5, 18], [5, 20]]])\n",
      "(['29 April 1936'], [[[0, 5], [0, 8]]])\n",
      "(['Francis'], [[[2, 6], [2, 7]]])\n",
      "(['Spanish'], [[[0, 12], [0, 13]]])\n",
      "(['Peter Hans Kolvenbach'], [[[3, 7], [3, 10]]])\n",
      "(['Society of Jesus'], [[[1, 8], [1, 11]]])\n",
      "(['Venezuela'], [[[5, 21], [5, 22]]])\n",
      "(['Jesuit General Congregation'], [[[2, 23], [2, 26]]])\n"
     ]
    }
   ],
   "source": [
    "# pred\n",
    "# visualize entity (mentions)\n",
    "clusters_pred = row['clusters_pred']\n",
    "for cluster in clusters_pred:\n",
    "    print(cluster_to_words(row['sents'], row['raw_spans'], cluster))"
   ]
  },
  {
   "cell_type": "code",
   "execution_count": 10,
   "metadata": {},
   "outputs": [
    {
     "name": "stdout",
     "output_type": "stream",
     "text": [
      "(['Adolfo Nicolás Pachón', 'Nicolás'], [[[0, 0], [0, 3]], [[2, 0], [2, 1]]])\n",
      "(['29 April 1936'], [[[0, 5], [0, 8]]])\n",
      "(['Spanish'], [[[0, 12], [0, 13]]])\n",
      "(['Roman Catholic Church', 'Roman Catholic Church'], [[[0, 16], [0, 19]], [[1, 18], [1, 21]]])\n",
      "(['None', 'Society of Jesus'], ['None', [[1, 8], [1, 11]]])\n",
      "(['Francis'], [[[2, 6], [2, 7]]])\n",
      "(['Jesuit General Congregation'], [[[2, 23], [2, 26]]])\n",
      "(['Peter Hans Kolvenbach'], [[[3, 7], [3, 10]]])\n",
      "(['Benedict XVI'], [[[3, 35], [3, 37]]])\n",
      "(['Jesuit'], [[[4, 3], [4, 4]]])\n",
      "(['October 2016'], [[[5, 1], [5, 3]]])\n",
      "(['Arturo Sosa'], [[[5, 18], [5, 20]]])\n",
      "(['Venezuela'], [[[5, 21], [5, 22]]])\n"
     ]
    }
   ],
   "source": [
    "# gold\n",
    "# visualize entity (mentions)\n",
    "clusters_gold = row['clusters_gold']\n",
    "for cluster in clusters_gold:\n",
    "    print(cluster_to_words(row['sents'], row['raw_spans'], cluster))"
   ]
  },
  {
   "cell_type": "code",
   "execution_count": 11,
   "metadata": {},
   "outputs": [
    {
     "name": "stdout",
     "output_type": "stream",
     "text": [
      "predict_right_rel: 4\n"
     ]
    },
    {
     "data": {
      "text/plain": [
       "[{'h': (['Adolfo Nicolás Pachón', 'Nicolás'],\n",
       "   [[[0, 0], [0, 3]], [[2, 0], [2, 1]]]),\n",
       "  't': (['Roman Catholic Church', 'Roman Catholic Church'],\n",
       "   [[[0, 16], [0, 19]], [[1, 18], [1, 21]]]),\n",
       "  'r': 'religion'},\n",
       " {'h': (['Adolfo Nicolás Pachón', 'Nicolás'],\n",
       "   [[[0, 0], [0, 3]], [[2, 0], [2, 1]]]),\n",
       "  't': (['29 April 1936'], [[[0, 5], [0, 8]]]),\n",
       "  'r': 'date of birth'},\n",
       " {'h': (['Adolfo Nicolás Pachón', 'Nicolás'],\n",
       "   [[[0, 0], [0, 3]], [[2, 0], [2, 1]]]),\n",
       "  't': (['Spanish'], [[[0, 12], [0, 13]]]),\n",
       "  'r': 'country of citizenship'},\n",
       " {'h': (['Arturo Sosa'], [[[5, 18], [5, 20]]]),\n",
       "  't': (['Venezuela'], [[[5, 21], [5, 22]]]),\n",
       "  'r': 'country of citizenship'}]"
      ]
     },
     "execution_count": 11,
     "metadata": {},
     "output_type": "execute_result"
    }
   ],
   "source": [
    "print(f\"predict_right_rel: {len(transform_result['predict_right_rel'])}\")\n",
    "transform_result['predict_right_rel']"
   ]
  },
  {
   "cell_type": "code",
   "execution_count": 12,
   "metadata": {},
   "outputs": [
    {
     "name": "stdout",
     "output_type": "stream",
     "text": [
      "predict_wrong_rel_by_missing_head_tail: 0\n"
     ]
    },
    {
     "data": {
      "text/plain": [
       "[]"
      ]
     },
     "execution_count": 12,
     "metadata": {},
     "output_type": "execute_result"
    }
   ],
   "source": [
    "print(f\"predict_wrong_rel_by_missing_head_tail: {len(transform_result['predict_wrong_rel_by_missing_head_tail'])}\")\n",
    "transform_result['predict_wrong_rel_by_missing_head_tail']"
   ]
  },
  {
   "cell_type": "code",
   "execution_count": 13,
   "metadata": {},
   "outputs": [
    {
     "name": "stdout",
     "output_type": "stream",
     "text": [
      "predict_wrong_rel_by_missing_head: 0\n"
     ]
    },
    {
     "data": {
      "text/plain": [
       "[]"
      ]
     },
     "execution_count": 13,
     "metadata": {},
     "output_type": "execute_result"
    }
   ],
   "source": [
    "\n",
    "print(f\"predict_wrong_rel_by_missing_head: {len(transform_result['predict_wrong_rel_by_missing_head'])}\")\n",
    "transform_result['predict_wrong_rel_by_missing_head']"
   ]
  },
  {
   "cell_type": "code",
   "execution_count": 14,
   "metadata": {},
   "outputs": [
    {
     "name": "stdout",
     "output_type": "stream",
     "text": [
      "predict_wrong_rel_by_missing_tail: 0\n"
     ]
    },
    {
     "data": {
      "text/plain": [
       "[]"
      ]
     },
     "execution_count": 14,
     "metadata": {},
     "output_type": "execute_result"
    }
   ],
   "source": [
    "print(f\"predict_wrong_rel_by_missing_tail: {len(transform_result['predict_wrong_rel_by_missing_tail'])}\")\n",
    "transform_result['predict_wrong_rel_by_missing_tail']"
   ]
  },
  {
   "cell_type": "code",
   "execution_count": 15,
   "metadata": {},
   "outputs": [
    {
     "name": "stdout",
     "output_type": "stream",
     "text": [
      "predict_wrong_rel_left: 0\n"
     ]
    },
    {
     "data": {
      "text/plain": [
       "[]"
      ]
     },
     "execution_count": 15,
     "metadata": {},
     "output_type": "execute_result"
    }
   ],
   "source": [
    "print(f\"predict_wrong_rel_left: {len(transform_result['predict_wrong_rel_left'])}\")\n",
    "transform_result['predict_wrong_rel_left']"
   ]
  },
  {
   "cell_type": "code",
   "execution_count": 16,
   "metadata": {},
   "outputs": [
    {
     "name": "stdout",
     "output_type": "stream",
     "text": [
      "golden_rel_predicted: 4\n"
     ]
    },
    {
     "data": {
      "text/plain": [
       "[{'h': (['Adolfo Nicolás Pachón', 'Nicolás'],\n",
       "   [[[0, 0], [0, 3]], [[2, 0], [2, 1]]]),\n",
       "  't': (['29 April 1936'], [[[0, 5], [0, 8]]]),\n",
       "  'r': 'date of birth',\n",
       "  'evidence': [0]},\n",
       " {'h': (['Adolfo Nicolás Pachón', 'Nicolás'],\n",
       "   [[[0, 0], [0, 3]], [[2, 0], [2, 1]]]),\n",
       "  't': (['Roman Catholic Church', 'Roman Catholic Church'],\n",
       "   [[[0, 16], [0, 19]], [[1, 18], [1, 21]]]),\n",
       "  'r': 'religion',\n",
       "  'evidence': [0, 1]},\n",
       " {'h': (['Adolfo Nicolás Pachón', 'Nicolás'],\n",
       "   [[[0, 0], [0, 3]], [[2, 0], [2, 1]]]),\n",
       "  't': (['Spanish'], [[[0, 12], [0, 13]]]),\n",
       "  'r': 'country of citizenship',\n",
       "  'evidence': [0]},\n",
       " {'h': (['Arturo Sosa'], [[[5, 18], [5, 20]]]),\n",
       "  't': (['Venezuela'], [[[5, 21], [5, 22]]]),\n",
       "  'r': 'country of citizenship',\n",
       "  'evidence': [5]}]"
      ]
     },
     "execution_count": 16,
     "metadata": {},
     "output_type": "execute_result"
    }
   ],
   "source": [
    "print(f\"golden_rel_predicted: {len(transform_result['golden_rel_predicted'])}\")\n",
    "transform_result['golden_rel_predicted']"
   ]
  },
  {
   "cell_type": "code",
   "execution_count": 17,
   "metadata": {},
   "outputs": [
    {
     "name": "stdout",
     "output_type": "stream",
     "text": [
      "golden_rel_missing_span: 1\n"
     ]
    },
    {
     "data": {
      "text/plain": [
       "[{'h': (['None', 'Society of Jesus'], ['None', [[1, 8], [1, 11]]]),\n",
       "  't': (['Roman Catholic Church', 'Roman Catholic Church'],\n",
       "   [[[0, 16], [0, 19]], [[1, 18], [1, 21]]]),\n",
       "  'r': 'subclass of',\n",
       "  'evidence': [0, 1]}]"
      ]
     },
     "execution_count": 17,
     "metadata": {},
     "output_type": "execute_result"
    }
   ],
   "source": [
    "print(f\"golden_rel_missing_span: {len(transform_result['golden_rel_missing_span'])}\")\n",
    "transform_result['golden_rel_missing_span']"
   ]
  },
  {
   "cell_type": "code",
   "execution_count": 18,
   "metadata": {},
   "outputs": [
    {
     "name": "stdout",
     "output_type": "stream",
     "text": [
      "golden_rel_missing_head_and_tail: 0\n"
     ]
    },
    {
     "data": {
      "text/plain": [
       "[]"
      ]
     },
     "execution_count": 18,
     "metadata": {},
     "output_type": "execute_result"
    }
   ],
   "source": [
    "print(f\"golden_rel_missing_head_and_tail: {len(transform_result['golden_rel_missing_head_and_tail'])}\")\n",
    "transform_result['golden_rel_missing_head_and_tail']"
   ]
  },
  {
   "cell_type": "code",
   "execution_count": 19,
   "metadata": {},
   "outputs": [
    {
     "name": "stdout",
     "output_type": "stream",
     "text": [
      "golden_rel_missing_head: 0\n"
     ]
    },
    {
     "data": {
      "text/plain": [
       "[]"
      ]
     },
     "execution_count": 19,
     "metadata": {},
     "output_type": "execute_result"
    }
   ],
   "source": [
    "print(f\"golden_rel_missing_head: {len(transform_result['golden_rel_missing_head'])}\")\n",
    "transform_result['golden_rel_missing_head']"
   ]
  },
  {
   "cell_type": "code",
   "execution_count": 20,
   "metadata": {},
   "outputs": [
    {
     "name": "stdout",
     "output_type": "stream",
     "text": [
      "golden_rel_missing_tail: 0\n"
     ]
    },
    {
     "data": {
      "text/plain": [
       "[]"
      ]
     },
     "execution_count": 20,
     "metadata": {},
     "output_type": "execute_result"
    }
   ],
   "source": [
    "print(f\"golden_rel_missing_tail: {len(transform_result['golden_rel_missing_tail'])}\")\n",
    "transform_result['golden_rel_missing_tail']"
   ]
  },
  {
   "cell_type": "code",
   "execution_count": 21,
   "metadata": {},
   "outputs": [
    {
     "name": "stdout",
     "output_type": "stream",
     "text": [
      "golden_rel_not_predicted: 7\n"
     ]
    },
    {
     "data": {
      "text/plain": [
       "[{'h': (['Roman Catholic Church', 'Roman Catholic Church'],\n",
       "   [[[0, 16], [0, 19]], [[1, 18], [1, 21]]]),\n",
       "  't': (['Benedict XVI'], [[[3, 35], [3, 37]]]),\n",
       "  'r': 'chairperson',\n",
       "  'evidence': [0, 1, 3]},\n",
       " {'h': (['Roman Catholic Church', 'Roman Catholic Church'],\n",
       "   [[[0, 16], [0, 19]], [[1, 18], [1, 21]]]),\n",
       "  't': (['Francis'], [[[2, 6], [2, 7]]]),\n",
       "  'r': 'chairperson',\n",
       "  'evidence': [0, 1, 2]},\n",
       " {'h': (['Peter Hans Kolvenbach'], [[[3, 7], [3, 10]]]),\n",
       "  't': (['Roman Catholic Church', 'Roman Catholic Church'],\n",
       "   [[[0, 16], [0, 19]], [[1, 18], [1, 21]]]),\n",
       "  'r': 'religion',\n",
       "  'evidence': [0, 1, 3]},\n",
       " {'h': (['Benedict XVI'], [[[3, 35], [3, 37]]]),\n",
       "  't': (['Roman Catholic Church', 'Roman Catholic Church'],\n",
       "   [[[0, 16], [0, 19]], [[1, 18], [1, 21]]]),\n",
       "  'r': 'religion',\n",
       "  'evidence': [0, 1, 3]},\n",
       " {'h': (['Venezuela'], [[[5, 21], [5, 22]]]),\n",
       "  't': (['Arturo Sosa'], [[[5, 18], [5, 20]]]),\n",
       "  'r': 'head of state',\n",
       "  'evidence': [5]},\n",
       " {'h': (['Arturo Sosa'], [[[5, 18], [5, 20]]]),\n",
       "  't': (['Roman Catholic Church', 'Roman Catholic Church'],\n",
       "   [[[0, 16], [0, 19]], [[1, 18], [1, 21]]]),\n",
       "  'r': 'religion',\n",
       "  'evidence': [0, 1, 5]},\n",
       " {'h': (['Francis'], [[[2, 6], [2, 7]]]),\n",
       "  't': (['Roman Catholic Church', 'Roman Catholic Church'],\n",
       "   [[[0, 16], [0, 19]], [[1, 18], [1, 21]]]),\n",
       "  'r': 'religion',\n",
       "  'evidence': [0, 1, 2]}]"
      ]
     },
     "execution_count": 21,
     "metadata": {},
     "output_type": "execute_result"
    }
   ],
   "source": [
    "print(f\"golden_rel_not_predicted: {len(transform_result['golden_rel_not_predicted'])}\")\n",
    "transform_result['golden_rel_not_predicted']"
   ]
  },
  {
   "cell_type": "code",
   "execution_count": 22,
   "metadata": {},
   "outputs": [],
   "source": [
    "# transformer data\n",
    "dict_list_to_be_save = []\n",
    "for row in data:\n",
    "    dict_list_to_be_save.append(transform_row(row, id2rel_info, id2rel))"
   ]
  },
  {
   "cell_type": "code",
   "execution_count": 23,
   "metadata": {},
   "outputs": [],
   "source": [
    "# # save as csv\n",
    "# save_path = 'report/csv_report.csv'\n",
    "\n",
    "# import csv\n",
    "# fieldnames = set().union(*(d.keys() for d in dict_list_to_be_save))\n",
    "# # 使用字典的键作为CSV的列头\n",
    "# with open(save_path, 'w', newline='') as csvfile:\n",
    "#     writer = csv.DictWriter(csvfile, fieldnames=fieldnames)\n",
    "#     writer.writeheader()\n",
    "#     writer.writerows(dict_list_to_be_save)\n",
    "\n",
    "# # save as json\n",
    "# json_file_path = \"report/json_report.json\"\n",
    "# with open(json_file_path, \"w\") as f:\n",
    "#     json.dump(dict_list_to_be_save, f)"
   ]
  },
  {
   "cell_type": "code",
   "execution_count": 24,
   "metadata": {},
   "outputs": [
    {
     "data": {
      "text/plain": [
       "{'gold_rel_predicted_right_cnt_mention_2': 2167,\n",
       " 'gold_rel_predicted_right_cnt_mention_3': 1041,\n",
       " 'gold_rel_predicted_right_cnt_mention_4': 690,\n",
       " 'gold_rel_predicted_right_cnt_mention_5': 943,\n",
       " 'gold_rel_predicted_wrong_left_cnt_mention_2': 1559,\n",
       " 'gold_rel_predicted_wrong_left_cnt_mention_3': 743,\n",
       " 'gold_rel_predicted_wrong_left_cnt_mention_4': 425,\n",
       " 'gold_rel_predicted_wrong_left_cnt_mention_5': 536}"
      ]
     },
     "execution_count": 24,
     "metadata": {},
     "output_type": "execute_result"
    }
   ],
   "source": [
    "def caculate_mentions_rels(transformed_data):\n",
    "    gold_rel_predicted_right_cnt_mention_2 = 0\n",
    "    gold_rel_predicted_right_cnt_mention_3 = 0\n",
    "    gold_rel_predicted_right_cnt_mention_4 = 0\n",
    "    gold_rel_predicted_right_cnt_mention_5 = 0\n",
    "    \n",
    "    gold_rel_predicted_wrong_left_cnt_mention_2 = 0\n",
    "    gold_rel_predicted_wrong_left_cnt_mention_3 = 0\n",
    "    gold_rel_predicted_wrong_left_cnt_mention_4 = 0\n",
    "    gold_rel_predicted_wrong_left_cnt_mention_5 = 0\n",
    "    \n",
    "    for row in transformed_data:\n",
    "        for rel in row['golden_rel_predicted']:\n",
    "            if len(rel['h'][0]) + len(rel['t'][0]) == 2:\n",
    "                gold_rel_predicted_right_cnt_mention_2 += 1\n",
    "            elif len(rel['h'][0]) + len(rel['t'][0]) == 3:\n",
    "                gold_rel_predicted_right_cnt_mention_3 += 1\n",
    "            elif len(rel['h'][0]) + len(rel['t'][0]) == 4:\n",
    "                gold_rel_predicted_right_cnt_mention_4 += 1\n",
    "            elif len(rel['h'][0]) + len(rel['t'][0]) >= 5:\n",
    "                gold_rel_predicted_right_cnt_mention_5 += 1\n",
    "        for rel in row['golden_rel_not_predicted']:\n",
    "            if len(rel['h'][0]) + len(rel['t'][0]) == 2:\n",
    "                gold_rel_predicted_wrong_left_cnt_mention_2 += 1\n",
    "            elif len(rel['h'][0]) + len(rel['t'][0]) == 3:\n",
    "                gold_rel_predicted_wrong_left_cnt_mention_3 += 1\n",
    "            elif len(rel['h'][0]) + len(rel['t'][0]) == 4:\n",
    "                gold_rel_predicted_wrong_left_cnt_mention_4 += 1\n",
    "            elif len(rel['h'][0]) + len(rel['t'][0]) >= 5:\n",
    "                gold_rel_predicted_wrong_left_cnt_mention_5 += 1\n",
    "    \n",
    "    result = {}\n",
    "    result['gold_rel_predicted_right_cnt_mention_2'] = gold_rel_predicted_right_cnt_mention_2\n",
    "    result['gold_rel_predicted_right_cnt_mention_3'] = gold_rel_predicted_right_cnt_mention_3\n",
    "    result['gold_rel_predicted_right_cnt_mention_4'] = gold_rel_predicted_right_cnt_mention_4\n",
    "    result['gold_rel_predicted_right_cnt_mention_5'] = gold_rel_predicted_right_cnt_mention_5\n",
    "    \n",
    "    result['gold_rel_predicted_wrong_left_cnt_mention_2'] = gold_rel_predicted_wrong_left_cnt_mention_2\n",
    "    result['gold_rel_predicted_wrong_left_cnt_mention_3'] = gold_rel_predicted_wrong_left_cnt_mention_3\n",
    "    result['gold_rel_predicted_wrong_left_cnt_mention_4'] = gold_rel_predicted_wrong_left_cnt_mention_4\n",
    "    result['gold_rel_predicted_wrong_left_cnt_mention_5'] = gold_rel_predicted_wrong_left_cnt_mention_5\n",
    "    return result\n",
    "\n",
    "result = caculate_mentions_rels(dict_list_to_be_save)\n",
    "result"
   ]
  },
  {
   "cell_type": "code",
   "execution_count": 25,
   "metadata": {},
   "outputs": [],
   "source": [
    "def caculate_rels(transformed_data):\n",
    "    golden_rel_predicted_each_rel_cnt = {}\n",
    "    golden_rel_not_predicted_each_rel_cnt = {}\n",
    "    for row in transformed_data:\n",
    "        for rel in row['golden_rel_predicted']:\n",
    "            if rel['r'] not in golden_rel_predicted_each_rel_cnt:\n",
    "                golden_rel_predicted_each_rel_cnt[rel['r']] = 1\n",
    "            else:\n",
    "                golden_rel_predicted_each_rel_cnt[rel['r']] += 1\n",
    "        for rel in row['golden_rel_not_predicted']:\n",
    "            if rel['r'] not in golden_rel_not_predicted_each_rel_cnt:\n",
    "                golden_rel_not_predicted_each_rel_cnt[rel['r']] = 1\n",
    "            else:\n",
    "                golden_rel_not_predicted_each_rel_cnt[rel['r']] += 1\n",
    "    return golden_rel_predicted_each_rel_cnt, golden_rel_not_predicted_each_rel_cnt\n",
    "\n",
    "golden_rel_predicted_each_rel_cnt, golden_rel_not_predicted_each_rel_cnt = caculate_rels(dict_list_to_be_save)\n",
    "\n",
    "# import csv\n",
    "# each_rel_cnt_csv_report_path = \"report/each_rel_cnt.csv\"\n",
    "# headers = sorted(set(golden_rel_predicted_each_rel_cnt.keys()) | set(golden_rel_not_predicted_each_rel_cnt.keys()))\n",
    "# with open(each_rel_cnt_csv_report_path, 'w', newline='') as csvfile:\n",
    "#     writer = csv.writer(csvfile)\n",
    "\n",
    "#     writer.writerow(['', 'golden_rel_predicted', 'golden_rel_not_predicted'])\n",
    "#     for key in headers:\n",
    "#         writer.writerow([key, golden_rel_predicted_each_rel_cnt.get(key, '0'), golden_rel_not_predicted_each_rel_cnt.get(key, '0')])\n"
   ]
  }
 ],
 "metadata": {
  "kernelspec": {
   "display_name": "tag",
   "language": "python",
   "name": "python3"
  },
  "language_info": {
   "codemirror_mode": {
    "name": "ipython",
    "version": 3
   },
   "file_extension": ".py",
   "mimetype": "text/x-python",
   "name": "python",
   "nbconvert_exporter": "python",
   "pygments_lexer": "ipython3",
   "version": "3.8.10"
  }
 },
 "nbformat": 4,
 "nbformat_minor": 2
}
