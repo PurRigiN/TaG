{
 "cells": [
  {
   "cell_type": "code",
   "execution_count": 252,
   "metadata": {},
   "outputs": [
    {
     "data": {
      "text/plain": [
       "[['Ashwathy',\n",
       "  'Kurup',\n",
       "  ',',\n",
       "  'better',\n",
       "  'known',\n",
       "  'by',\n",
       "  'her',\n",
       "  'stage',\n",
       "  'name',\n",
       "  'Parvathy',\n",
       "  ',',\n",
       "  'is',\n",
       "  'an',\n",
       "  'Indian',\n",
       "  'film',\n",
       "  'actress',\n",
       "  'and',\n",
       "  'classical',\n",
       "  'dancer',\n",
       "  ',',\n",
       "  'who',\n",
       "  'appeared',\n",
       "  'in',\n",
       "  'Malayalam',\n",
       "  'films',\n",
       "  '.'],\n",
       " ['Parvathy',\n",
       "  'was',\n",
       "  'a',\n",
       "  'popular',\n",
       "  'actress',\n",
       "  'in',\n",
       "  'Malayalam',\n",
       "  'cinema',\n",
       "  'during',\n",
       "  'the',\n",
       "  'late-1980s',\n",
       "  'and',\n",
       "  'early-1990s',\n",
       "  '.'],\n",
       " ['Her',\n",
       "  'first',\n",
       "  'film',\n",
       "  'was',\n",
       "  'directed',\n",
       "  'by',\n",
       "  'Lenin',\n",
       "  'Rajendran',\n",
       "  ',',\n",
       "  'but',\n",
       "  'was',\n",
       "  'shelved',\n",
       "  'and',\n",
       "  'never',\n",
       "  'released',\n",
       "  '.'],\n",
       " ['She',\n",
       "  'was',\n",
       "  'introduced',\n",
       "  'to',\n",
       "  'the',\n",
       "  'industry',\n",
       "  'by',\n",
       "  'actor',\n",
       "  '-',\n",
       "  'director',\n",
       "  'Balachandra',\n",
       "  'Menon',\n",
       "  'through',\n",
       "  'Vivahithare',\n",
       "  'Ithile',\n",
       "  'in',\n",
       "  '1986',\n",
       "  '.'],\n",
       " ['Her',\n",
       "  'notable',\n",
       "  'works',\n",
       "  'include',\n",
       "  'Amrutham',\n",
       "  'Gamaya',\n",
       "  ',',\n",
       "  'Oru',\n",
       "  'Minnaminunginte',\n",
       "  'Nurunguvettam',\n",
       "  ',',\n",
       "  'Thoovanathumbikal',\n",
       "  '(',\n",
       "  '1987',\n",
       "  ')',\n",
       "  ',',\n",
       "  'Ponmuttayidunna',\n",
       "  'Tharavu',\n",
       "  '(',\n",
       "  '1988',\n",
       "  ')',\n",
       "  ',',\n",
       "  'Vadakkunokkiyantram',\n",
       "  ',',\n",
       "  'Peruvannapurathe',\n",
       "  'Visheshangal',\n",
       "  'and',\n",
       "  'Kireedam',\n",
       "  '(',\n",
       "  '1989',\n",
       "  ')',\n",
       "  '.'],\n",
       " ['Parvathy',\n",
       "  'married',\n",
       "  'film',\n",
       "  'actor',\n",
       "  'Jayaram',\n",
       "  'who',\n",
       "  'was',\n",
       "  'her',\n",
       "  'co',\n",
       "  '-',\n",
       "  'star',\n",
       "  'in',\n",
       "  'many',\n",
       "  'films',\n",
       "  'on'],\n",
       " ['7th', 'September', '1992', 'at', 'Town', 'Hall', ',', 'Ernakulam', '.'],\n",
       " ['After',\n",
       "  'marriage',\n",
       "  ',',\n",
       "  'Parvathy',\n",
       "  'effectively',\n",
       "  'quit',\n",
       "  'acting',\n",
       "  'in',\n",
       "  'films',\n",
       "  '.'],\n",
       " ['She', 'now', 'lives', 'with', 'her', 'family', 'in', 'Chennai', '.'],\n",
       " ['She',\n",
       "  'has',\n",
       "  'two',\n",
       "  'children',\n",
       "  ',',\n",
       "  'Kalidas',\n",
       "  'Jayaram',\n",
       "  'and',\n",
       "  'Malavika',\n",
       "  'Jayaram',\n",
       "  '.']]"
      ]
     },
     "execution_count": 252,
     "metadata": {},
     "output_type": "execute_result"
    }
   ],
   "source": [
    "# case study\n",
    "import json\n",
    "\n",
    "analyze_row_index = 83\n",
    "file_path = 'report/report.json'\n",
    "with open(file_path, 'r') as file:\n",
    "    data = json.load(file)\n",
    "data[analyze_row_index]['sents']"
   ]
  },
  {
   "cell_type": "code",
   "execution_count": 253,
   "metadata": {},
   "outputs": [
    {
     "data": {
      "text/plain": [
       "'Ashwathy Kurup'"
      ]
     },
     "execution_count": 253,
     "metadata": {},
     "output_type": "execute_result"
    }
   ],
   "source": [
    "def span_to_words(sents, span) -> str:\n",
    "    index_of_sent = span[0][0]\n",
    "    start = span[0][1]\n",
    "    end = span[1][1]\n",
    "    words = sents[index_of_sent][start:end]\n",
    "    return ' '.join(words)\n",
    "\n",
    "span_to_words(data[analyze_row_index]['sents'], data[analyze_row_index]['raw_spans'][0])"
   ]
  },
  {
   "cell_type": "code",
   "execution_count": 254,
   "metadata": {},
   "outputs": [
    {
     "data": {
      "text/plain": [
       "['Ashwathy Kurup , better known by her stage name Parvathy , is an Indian film actress and classical dancer , who appeared in Malayalam films .',\n",
       " 'Parvathy was a popular actress in Malayalam cinema during the late-1980s and early-1990s .',\n",
       " 'Her first film was directed by Lenin Rajendran , but was shelved and never released .',\n",
       " 'She was introduced to the industry by actor - director Balachandra Menon through Vivahithare Ithile in 1986 .',\n",
       " 'Her notable works include Amrutham Gamaya , Oru Minnaminunginte Nurunguvettam , Thoovanathumbikal ( 1987 ) , Ponmuttayidunna Tharavu ( 1988 ) , Vadakkunokkiyantram , Peruvannapurathe Visheshangal and Kireedam ( 1989 ) .',\n",
       " 'Parvathy married film actor Jayaram who was her co - star in many films on',\n",
       " '7th September 1992 at Town Hall , Ernakulam .',\n",
       " 'After marriage , Parvathy effectively quit acting in films .',\n",
       " 'She now lives with her family in Chennai .',\n",
       " 'She has two children , Kalidas Jayaram and Malavika Jayaram .']"
      ]
     },
     "execution_count": 254,
     "metadata": {},
     "output_type": "execute_result"
    }
   ],
   "source": [
    "def join_sents_words(sents):\n",
    "    return [' '.join(sent) for sent in sents]\n",
    "join_sents_words(data[analyze_row_index]['sents'])"
   ]
  },
  {
   "cell_type": "code",
   "execution_count": 255,
   "metadata": {},
   "outputs": [
    {
     "data": {
      "text/plain": [
       "(['Ashwathy Kurup', 'Parvathy', 'Parvathy', 'Parvathy', 'Parvathy'],\n",
       " [[[0, 0], [0, 2]],\n",
       "  [[0, 9], [0, 10]],\n",
       "  [[1, 0], [1, 1]],\n",
       "  [[5, 0], [5, 1]],\n",
       "  [[7, 3], [7, 4]]])"
      ]
     },
     "execution_count": 255,
     "metadata": {},
     "output_type": "execute_result"
    }
   ],
   "source": [
    "def cluster_to_words(sents, span, cluster):\n",
    "    words = []\n",
    "    spans = []\n",
    "    for i in cluster:\n",
    "        if i != -1:\n",
    "            words.append(span_to_words(sents, span[i]))\n",
    "            spans.append(span[i])\n",
    "        else:\n",
    "            words.append('None')\n",
    "            spans.append('None')\n",
    "    return words, spans\n",
    "\n",
    "cluster_to_words(data[analyze_row_index]['sents'], data[analyze_row_index]['raw_spans'], data[analyze_row_index]['clusters_pred'][0])"
   ]
  },
  {
   "cell_type": "code",
   "execution_count": 256,
   "metadata": {},
   "outputs": [
    {
     "data": {
      "text/plain": [
       "{'h': (['Ashwathy Kurup', 'Parvathy', 'Parvathy', 'Parvathy', 'Parvathy'],\n",
       "  [[[0, 0], [0, 2]],\n",
       "   [[7, 3], [7, 4]],\n",
       "   [[5, 0], [5, 1]],\n",
       "   [[1, 0], [1, 1]],\n",
       "   [[0, 9], [0, 10]]]),\n",
       " 't': (['Jayaram'], [[[5, 4], [5, 5]]]),\n",
       " 'r': 'spouse'}"
      ]
     },
     "execution_count": 256,
     "metadata": {},
     "output_type": "execute_result"
    }
   ],
   "source": [
    "import json\n",
    "rel_info_path = 'data/docred/rel_info.json'\n",
    "rel2id_path = 'data/docred/rel2id.json'\n",
    "with open(rel_info_path, 'r') as file:\n",
    "    rel_info = json.load(file)\n",
    "with open(rel2id_path, 'r') as file:\n",
    "    rel2id = json.load(file)\n",
    "\n",
    "id2rel_info = {}\n",
    "for k, v in rel2id.items():\n",
    "    if v != 0:\n",
    "        id2rel_info[v] = rel_info[k]\n",
    "id2rel = {}\n",
    "for k, v in rel2id.items():\n",
    "    if v != 0:\n",
    "        id2rel[v] = k\n",
    "\n",
    "def visualize_rel(sents, span, rel, clusters, id2rel_info: dict, evidence :list=None):\n",
    "    if(rel['h'] != -1):\n",
    "        head = cluster_to_words(sents, span, clusters[rel['h']])\n",
    "    else:\n",
    "        head = 'None'\n",
    "    if(rel['t'] != -1):\n",
    "        tail = cluster_to_words(sents, span, clusters[rel['t']])\n",
    "    else:\n",
    "        tail = 'None'\n",
    "    rel_info = id2rel_info[rel['r']]\n",
    "    v_rel = {}\n",
    "    v_rel['h'] = head\n",
    "    v_rel['t'] = tail\n",
    "    v_rel['r'] = rel_info\n",
    "    if evidence != None:\n",
    "        v_rel['evidence'] = evidence\n",
    "    return v_rel\n",
    "\n",
    "visualize_rel(data[analyze_row_index]['sents'], data[analyze_row_index]['raw_spans'], data[analyze_row_index]['rels_gold'][0], data[analyze_row_index]['clusters_gold'], id2rel_info)"
   ]
  },
  {
   "cell_type": "code",
   "execution_count": 257,
   "metadata": {},
   "outputs": [],
   "source": [
    "def find_evidence(rel, id2rel, labels):\n",
    "    rel_h = rel['h']\n",
    "    rel_t = rel['t']\n",
    "    rel_r = id2rel[rel['r']]\n",
    "    for i in labels:\n",
    "        if rel_h==i['h'] and rel_t==i['t'] and rel_r==i['r']:\n",
    "            return i['evidence']\n",
    "    return None\n",
    "        "
   ]
  },
  {
   "cell_type": "code",
   "execution_count": 258,
   "metadata": {},
   "outputs": [],
   "source": [
    "def transform_row(row, id2rel_info, id2rel):\n",
    "    result_dict = {}\n",
    "    result_dict['sents'] = join_sents_words(row['sents'])\n",
    "    num_sents = len(result_dict['sents'])\n",
    "    result_dict['num_sents'] = num_sents\n",
    "    words = 0\n",
    "    for sent in row['sents']:\n",
    "        words += len(sent)\n",
    "    result_dict['words'] = words\n",
    "    result_dict['re_tp'] = row['re_tp']\n",
    "    result_dict['re_fp'] = row['re_fp']\n",
    "    result_dict['re_fn'] = row['re_fn']\n",
    "    result_dict['reverse_cluster_map'] = row['reverse_cluster_map']\n",
    "    result_dict['cnt_rel_could_not_be_predicted_me'] = row['cnt_rel_could_not_be_predicted_me']\n",
    "    result_dict['cnt_rel_could_not_be_predicted_coref'] = row['cnt_rel_could_not_be_predicted_coref']\n",
    "    \n",
    "    rels_pred = row['rels_pred']\n",
    "    rels_gold = row['rels_gold']\n",
    "    clusters_gold = row['clusters_gold']\n",
    "    predict_right_rel = []\n",
    "    predict_wrong_rel_by_missing_head_tail = []\n",
    "    predict_wrong_rel_by_missing_head = []\n",
    "    predict_wrong_rel_by_missing_tail = []\n",
    "    predict_wrong_rel_left = []\n",
    "    cluster_map = row['cluster_map']\n",
    "    golden_rel_predicted_indexs = []\n",
    "    for rel in rels_pred:\n",
    "        mapped_rel = {'h': cluster_map[str(rel['h'])], 't': cluster_map[str(rel['t'])], 'r': rel['r']}\n",
    "        v_rel = visualize_rel(row['sents'], row['raw_spans'], rel, row['clusters_pred'], id2rel_info)\n",
    "        if mapped_rel in rels_gold:\n",
    "            predict_right_rel.append(v_rel)\n",
    "            golden_rel_predicted_indexs.append(rels_gold.index(mapped_rel))\n",
    "        elif mapped_rel['h'] == -1 and mapped_rel['t'] == -1:\n",
    "            predict_wrong_rel_by_missing_head_tail.append(v_rel)\n",
    "        elif mapped_rel['h'] == -1 :\n",
    "            predict_wrong_rel_by_missing_head.append(v_rel)\n",
    "        elif mapped_rel['t'] == -1 :\n",
    "            predict_wrong_rel_by_missing_tail.append(v_rel)\n",
    "        else:\n",
    "            predict_wrong_rel_left.append(v_rel)\n",
    "    result_dict['predict_right_rel'] = predict_right_rel\n",
    "    result_dict['predict_wrong_rel_by_missing_head_tail'] = predict_wrong_rel_by_missing_head_tail\n",
    "    result_dict['predict_wrong_rel_by_missing_head'] = predict_wrong_rel_by_missing_head\n",
    "    result_dict['predict_wrong_rel_by_missing_tail'] = predict_wrong_rel_by_missing_tail\n",
    "    result_dict['predict_wrong_rel_left'] = predict_wrong_rel_left\n",
    "    \n",
    "    # rel_gold\n",
    "    golden_rel_predicted = []\n",
    "    golden_rel_missing_span = []\n",
    "    golden_rel_missing_head_and_tail = []\n",
    "    golden_rel_missing_head = []\n",
    "    golden_rel_missing_tail = []\n",
    "    golden_rel_not_predicted = []\n",
    "    labels = row['labels'] if 'labels' in row else []\n",
    "    reverse_cluster_map = result_dict['reverse_cluster_map']\n",
    "    for index, rel in enumerate(rels_gold):\n",
    "        evidence = find_evidence(rel, id2rel, labels)\n",
    "        v_rel = visualize_rel(row['sents'], row['raw_spans'], rel, row['clusters_gold'], id2rel_info, evidence)\n",
    "        if index in golden_rel_predicted_indexs:\n",
    "            golden_rel_predicted.append(v_rel)\n",
    "        elif -1 in clusters_gold[rel['h']] or -1 in clusters_gold[rel['t']] :\n",
    "            golden_rel_missing_span.append(v_rel)\n",
    "        elif reverse_cluster_map[str(rel['h'])] == -1 and reverse_cluster_map[str(rel['t'])] == -1 :\n",
    "            golden_rel_missing_head_and_tail.append(v_rel)\n",
    "        elif reverse_cluster_map[str(rel['h'])] == -1:\n",
    "            golden_rel_missing_head.append(v_rel)\n",
    "        elif reverse_cluster_map[str(rel['t'])] == -1:\n",
    "            golden_rel_missing_tail.append(v_rel)\n",
    "        else:\n",
    "            golden_rel_not_predicted.append(v_rel)\n",
    "    result_dict['golden_rel_predicted'] = golden_rel_predicted\n",
    "    result_dict['golden_rel_missing_span'] = golden_rel_missing_span\n",
    "    result_dict['golden_rel_missing_head_and_tail'] = golden_rel_missing_head_and_tail\n",
    "    result_dict['golden_rel_missing_head'] = golden_rel_missing_head\n",
    "    result_dict['golden_rel_missing_tail'] = golden_rel_missing_tail\n",
    "    result_dict['golden_rel_not_predicted'] = golden_rel_not_predicted\n",
    "    golden_rel_predicted_cnt_evidence_0 = 0\n",
    "    golden_rel_predicted_cnt_evidence_1 = 0\n",
    "    golden_rel_predicted_cnt_evidence_2 = 0\n",
    "    golden_rel_predicted_cnt_evidence_3 = 0\n",
    "    golden_rel_predicted_cnt_evidence_4 = 0\n",
    "    golden_rel_predicted_cnt_evidence_5 = 0\n",
    "    golden_rel_predicted_cnt_evidence_6 = 0  # more than 6\n",
    "    for rel in golden_rel_predicted:\n",
    "        if 'evidence' in rel:\n",
    "            if len(rel['evidence']) == 0:\n",
    "                golden_rel_predicted_cnt_evidence_0 += 1\n",
    "            elif len(rel['evidence']) == 1:\n",
    "                golden_rel_predicted_cnt_evidence_1 += 1\n",
    "            elif len(rel['evidence']) == 2:\n",
    "                golden_rel_predicted_cnt_evidence_2 += 1\n",
    "            elif len(rel['evidence']) == 3:\n",
    "                golden_rel_predicted_cnt_evidence_3 += 1\n",
    "            elif len(rel['evidence']) == 4:\n",
    "                golden_rel_predicted_cnt_evidence_4 += 1\n",
    "            elif len(rel['evidence']) == 5:\n",
    "                golden_rel_predicted_cnt_evidence_5 += 1\n",
    "            else:\n",
    "                golden_rel_predicted_cnt_evidence_6 += 1\n",
    "    result_dict['golden_rel_predicted_cnt_evidence_0'] = golden_rel_predicted_cnt_evidence_0\n",
    "    result_dict['golden_rel_predicted_cnt_evidence_1'] = golden_rel_predicted_cnt_evidence_1\n",
    "    result_dict['golden_rel_predicted_cnt_evidence_2'] = golden_rel_predicted_cnt_evidence_2\n",
    "    result_dict['golden_rel_predicted_cnt_evidence_3'] = golden_rel_predicted_cnt_evidence_3\n",
    "    result_dict['golden_rel_predicted_cnt_evidence_4'] = golden_rel_predicted_cnt_evidence_4\n",
    "    result_dict['golden_rel_predicted_cnt_evidence_5'] = golden_rel_predicted_cnt_evidence_5\n",
    "    result_dict['golden_rel_predicted_cnt_evidence_6'] = golden_rel_predicted_cnt_evidence_6\n",
    "    \n",
    "    golden_rel_missing_cnt_evidence_0 = 0\n",
    "    golden_rel_missing_cnt_evidence_1 = 0\n",
    "    golden_rel_missing_cnt_evidence_2 = 0\n",
    "    golden_rel_missing_cnt_evidence_3 = 0\n",
    "    golden_rel_missing_cnt_evidence_4 = 0\n",
    "    golden_rel_missing_cnt_evidence_5 = 0\n",
    "    golden_rel_missing_cnt_evidence_6 = 0\n",
    "    \n",
    "    for rel in golden_rel_missing_span:\n",
    "        if 'evidence' in rel:\n",
    "            if len(rel['evidence']) == 0:\n",
    "                golden_rel_missing_cnt_evidence_0 += 1\n",
    "            elif len(rel['evidence']) == 1:\n",
    "                golden_rel_missing_cnt_evidence_1 += 1\n",
    "            elif len(rel['evidence']) == 2:\n",
    "                golden_rel_missing_cnt_evidence_2 += 1\n",
    "            elif len(rel['evidence']) == 3:\n",
    "                golden_rel_missing_cnt_evidence_3 += 1\n",
    "            elif len(rel['evidence']) == 4:\n",
    "                golden_rel_missing_cnt_evidence_4 += 1\n",
    "            elif len(rel['evidence']) == 5:\n",
    "                golden_rel_missing_cnt_evidence_5 += 1\n",
    "            else:\n",
    "                golden_rel_missing_cnt_evidence_6 += 1\n",
    "    for rel in golden_rel_missing_head_and_tail:\n",
    "        if 'evidence' in rel:\n",
    "            if len(rel['evidence']) == 0:\n",
    "                golden_rel_missing_cnt_evidence_0 += 1\n",
    "            elif len(rel['evidence']) == 1:\n",
    "                golden_rel_missing_cnt_evidence_1 += 1\n",
    "            elif len(rel['evidence']) == 2:\n",
    "                golden_rel_missing_cnt_evidence_2 += 1\n",
    "            elif len(rel['evidence']) == 3:\n",
    "                golden_rel_missing_cnt_evidence_3 += 1\n",
    "            elif len(rel['evidence']) == 4:\n",
    "                golden_rel_missing_cnt_evidence_4 += 1\n",
    "            elif len(rel['evidence']) == 5:\n",
    "                golden_rel_missing_cnt_evidence_5 += 1\n",
    "            else:\n",
    "                golden_rel_missing_cnt_evidence_6 += 1\n",
    "    for rel in golden_rel_missing_head:\n",
    "        if 'evidence' in rel:\n",
    "            if len(rel['evidence']) == 0:\n",
    "                golden_rel_missing_cnt_evidence_0 += 1\n",
    "            elif len(rel['evidence']) == 1:\n",
    "                golden_rel_missing_cnt_evidence_1 += 1\n",
    "            elif len(rel['evidence']) == 2:\n",
    "                golden_rel_missing_cnt_evidence_2 += 1\n",
    "            elif len(rel['evidence']) == 3:\n",
    "                golden_rel_missing_cnt_evidence_3 += 1\n",
    "            elif len(rel['evidence']) == 4:\n",
    "                golden_rel_missing_cnt_evidence_4 += 1\n",
    "            elif len(rel['evidence']) == 5:\n",
    "                golden_rel_missing_cnt_evidence_5 += 1\n",
    "            else:\n",
    "                golden_rel_missing_cnt_evidence_6 += 1\n",
    "    for rel in golden_rel_missing_tail:\n",
    "        if 'evidence' in rel:\n",
    "            if len(rel['evidence']) == 0:\n",
    "                golden_rel_missing_cnt_evidence_0 += 1\n",
    "            elif len(rel['evidence']) == 1:\n",
    "                golden_rel_missing_cnt_evidence_1 += 1\n",
    "            elif len(rel['evidence']) == 2:\n",
    "                golden_rel_missing_cnt_evidence_2 += 1\n",
    "            elif len(rel['evidence']) == 3:\n",
    "                golden_rel_missing_cnt_evidence_3 += 1\n",
    "            elif len(rel['evidence']) == 4:\n",
    "                golden_rel_missing_cnt_evidence_4 += 1\n",
    "            elif len(rel['evidence']) == 5:\n",
    "                golden_rel_missing_cnt_evidence_5 += 1\n",
    "            else:\n",
    "                golden_rel_missing_cnt_evidence_6 += 1\n",
    "    \n",
    "    result_dict['golden_rel_missing_cnt_evidence_0'] = golden_rel_missing_cnt_evidence_0\n",
    "    result_dict['golden_rel_missing_cnt_evidence_1'] = golden_rel_missing_cnt_evidence_1\n",
    "    result_dict['golden_rel_missing_cnt_evidence_2'] = golden_rel_missing_cnt_evidence_2\n",
    "    result_dict['golden_rel_missing_cnt_evidence_3'] = golden_rel_missing_cnt_evidence_3\n",
    "    result_dict['golden_rel_missing_cnt_evidence_4'] = golden_rel_missing_cnt_evidence_4\n",
    "    result_dict['golden_rel_missing_cnt_evidence_5'] = golden_rel_missing_cnt_evidence_5\n",
    "    result_dict['golden_rel_missing_cnt_evidence_6'] = golden_rel_missing_cnt_evidence_6\n",
    "    \n",
    "    golden_rel_not_predicted_cnt_evidence_0 = 0\n",
    "    golden_rel_not_predicted_cnt_evidence_1 = 0\n",
    "    golden_rel_not_predicted_cnt_evidence_2 = 0\n",
    "    golden_rel_not_predicted_cnt_evidence_3 = 0\n",
    "    golden_rel_not_predicted_cnt_evidence_4 = 0\n",
    "    golden_rel_not_predicted_cnt_evidence_5 = 0\n",
    "    golden_rel_not_predicted_cnt_evidence_6 = 0\n",
    "    for rel in golden_rel_not_predicted:\n",
    "        if 'evidence' in rel:\n",
    "            if len(rel['evidence']) == 0:\n",
    "                golden_rel_not_predicted_cnt_evidence_0 += 1\n",
    "            elif len(rel['evidence']) == 1:\n",
    "                golden_rel_not_predicted_cnt_evidence_1 += 1\n",
    "            elif len(rel['evidence']) == 2:\n",
    "                golden_rel_not_predicted_cnt_evidence_2 += 1\n",
    "            elif len(rel['evidence']) == 3:\n",
    "                golden_rel_not_predicted_cnt_evidence_3 += 1\n",
    "            elif len(rel['evidence']) == 4:\n",
    "                golden_rel_not_predicted_cnt_evidence_4 += 1\n",
    "            elif len(rel['evidence']) == 5:\n",
    "                golden_rel_not_predicted_cnt_evidence_5 += 1\n",
    "            else:\n",
    "                golden_rel_not_predicted_cnt_evidence_6 += 1\n",
    "    result_dict['golden_rel_not_predicted_cnt_evidence_0'] = golden_rel_not_predicted_cnt_evidence_0\n",
    "    result_dict['golden_rel_not_predicted_cnt_evidence_1'] = golden_rel_not_predicted_cnt_evidence_1\n",
    "    result_dict['golden_rel_not_predicted_cnt_evidence_2'] = golden_rel_not_predicted_cnt_evidence_2\n",
    "    result_dict['golden_rel_not_predicted_cnt_evidence_3'] = golden_rel_not_predicted_cnt_evidence_3\n",
    "    result_dict['golden_rel_not_predicted_cnt_evidence_4'] = golden_rel_not_predicted_cnt_evidence_4\n",
    "    result_dict['golden_rel_not_predicted_cnt_evidence_5'] = golden_rel_not_predicted_cnt_evidence_5\n",
    "    result_dict['golden_rel_not_predicted_cnt_evidence_6'] = golden_rel_not_predicted_cnt_evidence_6\n",
    "\n",
    "    return result_dict\n"
   ]
  },
  {
   "cell_type": "code",
   "execution_count": 259,
   "metadata": {},
   "outputs": [
    {
     "name": "stdout",
     "output_type": "stream",
     "text": [
      "cnt_rel_could_not_be_predicted_me: 9\n",
      "cnt_rel_could_not_be_predicted_coref: 3\n",
      "there are 10 sentences, 160 words in doc.\n",
      "sents:\n"
     ]
    },
    {
     "data": {
      "text/plain": [
       "['Ashwathy Kurup , better known by her stage name Parvathy , is an Indian film actress and classical dancer , who appeared in Malayalam films .',\n",
       " 'Parvathy was a popular actress in Malayalam cinema during the late-1980s and early-1990s .',\n",
       " 'Her first film was directed by Lenin Rajendran , but was shelved and never released .',\n",
       " 'She was introduced to the industry by actor - director Balachandra Menon through Vivahithare Ithile in 1986 .',\n",
       " 'Her notable works include Amrutham Gamaya , Oru Minnaminunginte Nurunguvettam , Thoovanathumbikal ( 1987 ) , Ponmuttayidunna Tharavu ( 1988 ) , Vadakkunokkiyantram , Peruvannapurathe Visheshangal and Kireedam ( 1989 ) .',\n",
       " 'Parvathy married film actor Jayaram who was her co - star in many films on',\n",
       " '7th September 1992 at Town Hall , Ernakulam .',\n",
       " 'After marriage , Parvathy effectively quit acting in films .',\n",
       " 'She now lives with her family in Chennai .',\n",
       " 'She has two children , Kalidas Jayaram and Malavika Jayaram .']"
      ]
     },
     "execution_count": 259,
     "metadata": {},
     "output_type": "execute_result"
    }
   ],
   "source": [
    "row = data[analyze_row_index]\n",
    "\n",
    "transform_result = transform_row(row, id2rel_info, id2rel)\n",
    "print(f\"cnt_rel_could_not_be_predicted_me: {transform_result['cnt_rel_could_not_be_predicted_me']}\")\n",
    "print(f\"cnt_rel_could_not_be_predicted_coref: {transform_result['cnt_rel_could_not_be_predicted_coref']}\")\n",
    "\n",
    "num_sents = transform_result['num_sents']\n",
    "words = transform_result['words']\n",
    "print(f'there are {num_sents} sentences, {words} words in doc.')\n",
    "print(f\"sents:\")\n",
    "transform_result['sents']"
   ]
  },
  {
   "cell_type": "code",
   "execution_count": 260,
   "metadata": {},
   "outputs": [
    {
     "name": "stdout",
     "output_type": "stream",
     "text": [
      "(['Ashwathy Kurup', 'Parvathy', 'Parvathy', 'Parvathy', 'Parvathy'], [[[0, 0], [0, 2]], [[0, 9], [0, 10]], [[1, 0], [1, 1]], [[5, 0], [5, 1]], [[7, 3], [7, 4]]])\n",
      "(['Malayalam', 'Malayalam'], [[[0, 23], [0, 24]], [[1, 6], [1, 7]]])\n",
      "(['Oru Minnaminunginte Nurunguvettam ,'], [[[4, 7], [4, 11]]])\n",
      "(['Peruvannapurathe Visheshangal and Kireedam'], [[[4, 24], [4, 28]]])\n",
      "(['1989'], [[[4, 29], [4, 30]]])\n",
      "(['Kalidas Jayaram'], [[[9, 5], [9, 7]]])\n",
      "(['Malavika Jayaram'], [[[9, 8], [9, 10]]])\n",
      "(['two'], [[[9, 2], [9, 3]]])\n",
      "(['Ernakulam'], [[[6, 7], [6, 8]]])\n",
      "(['Vivahithare Ithile'], [[[3, 13], [3, 15]]])\n",
      "(['1988'], [[[4, 19], [4, 20]]])\n",
      "(['Town Hall'], [[[6, 4], [6, 6]]])\n",
      "(['1987'], [[[4, 13], [4, 14]]])\n",
      "(['Jayaram'], [[[5, 4], [5, 5]]])\n",
      "(['Amrutham Gamaya'], [[[4, 4], [4, 6]]])\n",
      "(['Ponmuttayidunna Tharavu'], [[[4, 16], [4, 18]]])\n",
      "(['Chennai'], [[[8, 7], [8, 8]]])\n",
      "(['Vadakkunokkiyantram'], [[[4, 22], [4, 23]]])\n",
      "(['7th September 1992'], [[[6, 0], [6, 3]]])\n",
      "(['late-1980s'], [[[1, 10], [1, 11]]])\n",
      "(['Lenin Rajendran'], [[[2, 6], [2, 8]]])\n",
      "(['early-1990s'], [[[1, 12], [1, 13]]])\n",
      "(['Indian'], [[[0, 13], [0, 14]]])\n",
      "(['Thoovanathumbikal'], [[[4, 11], [4, 12]]])\n",
      "(['1986'], [[[3, 16], [3, 17]]])\n",
      "(['Balachandra Menon'], [[[3, 10], [3, 12]]])\n"
     ]
    }
   ],
   "source": [
    "# pred\n",
    "# visualize entity (mentions)\n",
    "clusters_pred = row['clusters_pred']\n",
    "for cluster in clusters_pred:\n",
    "    print(cluster_to_words(row['sents'], row['raw_spans'], cluster))"
   ]
  },
  {
   "cell_type": "code",
   "execution_count": 261,
   "metadata": {},
   "outputs": [
    {
     "name": "stdout",
     "output_type": "stream",
     "text": [
      "(['Ashwathy Kurup', 'Parvathy', 'Parvathy', 'Parvathy', 'Parvathy'], [[[0, 0], [0, 2]], [[7, 3], [7, 4]], [[5, 0], [5, 1]], [[1, 0], [1, 1]], [[0, 9], [0, 10]]])\n",
      "(['Indian'], [[[0, 13], [0, 14]]])\n",
      "(['Malayalam'], [[[0, 23], [0, 24]]])\n",
      "(['Malayalam'], [[[1, 6], [1, 7]]])\n",
      "(['late-1980s'], [[[1, 10], [1, 11]]])\n",
      "(['early-1990s'], [[[1, 12], [1, 13]]])\n",
      "(['Lenin Rajendran'], [[[2, 6], [2, 8]]])\n",
      "(['Balachandra Menon'], [[[3, 10], [3, 12]]])\n",
      "(['Vivahithare Ithile'], [[[3, 13], [3, 15]]])\n",
      "(['1986'], [[[3, 16], [3, 17]]])\n",
      "(['Amrutham Gamaya'], [[[4, 4], [4, 6]]])\n",
      "(['None'], ['None'])\n",
      "(['Thoovanathumbikal'], [[[4, 11], [4, 12]]])\n",
      "(['1987'], [[[4, 13], [4, 14]]])\n",
      "(['Ponmuttayidunna Tharavu'], [[[4, 16], [4, 18]]])\n",
      "(['1988'], [[[4, 19], [4, 20]]])\n",
      "(['Vadakkunokkiyantram'], [[[4, 22], [4, 23]]])\n",
      "(['None'], ['None'])\n",
      "(['None'], ['None'])\n",
      "(['1989'], [[[4, 29], [4, 30]]])\n",
      "(['Jayaram'], [[[5, 4], [5, 5]]])\n",
      "(['7th September 1992'], [[[6, 0], [6, 3]]])\n",
      "(['Town Hall'], [[[6, 4], [6, 6]]])\n",
      "(['Ernakulam'], [[[6, 7], [6, 8]]])\n",
      "(['Chennai'], [[[8, 7], [8, 8]]])\n",
      "(['two'], [[[9, 2], [9, 3]]])\n",
      "(['Kalidas Jayaram'], [[[9, 5], [9, 7]]])\n",
      "(['Malavika Jayaram'], [[[9, 8], [9, 10]]])\n"
     ]
    }
   ],
   "source": [
    "# gold\n",
    "# visualize entity (mentions)\n",
    "clusters_gold = row['clusters_gold']\n",
    "for cluster in clusters_gold:\n",
    "    print(cluster_to_words(row['sents'], row['raw_spans'], cluster))"
   ]
  },
  {
   "cell_type": "code",
   "execution_count": 262,
   "metadata": {},
   "outputs": [
    {
     "name": "stdout",
     "output_type": "stream",
     "text": [
      "predict_right_rel: 9\n"
     ]
    },
    {
     "data": {
      "text/plain": [
       "[{'h': (['Ashwathy Kurup', 'Parvathy', 'Parvathy', 'Parvathy', 'Parvathy'],\n",
       "   [[[0, 0], [0, 2]],\n",
       "    [[0, 9], [0, 10]],\n",
       "    [[1, 0], [1, 1]],\n",
       "    [[5, 0], [5, 1]],\n",
       "    [[7, 3], [7, 4]]]),\n",
       "  't': (['Kalidas Jayaram'], [[[9, 5], [9, 7]]]),\n",
       "  'r': 'child'},\n",
       " {'h': (['Ashwathy Kurup', 'Parvathy', 'Parvathy', 'Parvathy', 'Parvathy'],\n",
       "   [[[0, 0], [0, 2]],\n",
       "    [[0, 9], [0, 10]],\n",
       "    [[1, 0], [1, 1]],\n",
       "    [[5, 0], [5, 1]],\n",
       "    [[7, 3], [7, 4]]]),\n",
       "  't': (['Malavika Jayaram'], [[[9, 8], [9, 10]]]),\n",
       "  'r': 'child'},\n",
       " {'h': (['Jayaram'], [[[5, 4], [5, 5]]]),\n",
       "  't': (['Kalidas Jayaram'], [[[9, 5], [9, 7]]]),\n",
       "  'r': 'child'},\n",
       " {'h': (['Amrutham Gamaya'], [[[4, 4], [4, 6]]]),\n",
       "  't': (['Ashwathy Kurup', 'Parvathy', 'Parvathy', 'Parvathy', 'Parvathy'],\n",
       "   [[[0, 0], [0, 2]],\n",
       "    [[0, 9], [0, 10]],\n",
       "    [[1, 0], [1, 1]],\n",
       "    [[5, 0], [5, 1]],\n",
       "    [[7, 3], [7, 4]]]),\n",
       "  'r': 'cast member'},\n",
       " {'h': (['Ponmuttayidunna Tharavu'], [[[4, 16], [4, 18]]]),\n",
       "  't': (['Ashwathy Kurup', 'Parvathy', 'Parvathy', 'Parvathy', 'Parvathy'],\n",
       "   [[[0, 0], [0, 2]],\n",
       "    [[0, 9], [0, 10]],\n",
       "    [[1, 0], [1, 1]],\n",
       "    [[5, 0], [5, 1]],\n",
       "    [[7, 3], [7, 4]]]),\n",
       "  'r': 'cast member'},\n",
       " {'h': (['Ponmuttayidunna Tharavu'], [[[4, 16], [4, 18]]]),\n",
       "  't': (['1988'], [[[4, 19], [4, 20]]]),\n",
       "  'r': 'publication date'},\n",
       " {'h': (['Vadakkunokkiyantram'], [[[4, 22], [4, 23]]]),\n",
       "  't': (['Ashwathy Kurup', 'Parvathy', 'Parvathy', 'Parvathy', 'Parvathy'],\n",
       "   [[[0, 0], [0, 2]],\n",
       "    [[0, 9], [0, 10]],\n",
       "    [[1, 0], [1, 1]],\n",
       "    [[5, 0], [5, 1]],\n",
       "    [[7, 3], [7, 4]]]),\n",
       "  'r': 'cast member'},\n",
       " {'h': (['Thoovanathumbikal'], [[[4, 11], [4, 12]]]),\n",
       "  't': (['Ashwathy Kurup', 'Parvathy', 'Parvathy', 'Parvathy', 'Parvathy'],\n",
       "   [[[0, 0], [0, 2]],\n",
       "    [[0, 9], [0, 10]],\n",
       "    [[1, 0], [1, 1]],\n",
       "    [[5, 0], [5, 1]],\n",
       "    [[7, 3], [7, 4]]]),\n",
       "  'r': 'cast member'},\n",
       " {'h': (['Thoovanathumbikal'], [[[4, 11], [4, 12]]]),\n",
       "  't': (['1987'], [[[4, 13], [4, 14]]]),\n",
       "  'r': 'publication date'}]"
      ]
     },
     "execution_count": 262,
     "metadata": {},
     "output_type": "execute_result"
    }
   ],
   "source": [
    "print(f\"predict_right_rel: {len(transform_result['predict_right_rel'])}\")\n",
    "transform_result['predict_right_rel']"
   ]
  },
  {
   "cell_type": "code",
   "execution_count": 263,
   "metadata": {},
   "outputs": [
    {
     "name": "stdout",
     "output_type": "stream",
     "text": [
      "predict_wrong_rel_by_missing_head_tail: 0\n"
     ]
    },
    {
     "data": {
      "text/plain": [
       "[]"
      ]
     },
     "execution_count": 263,
     "metadata": {},
     "output_type": "execute_result"
    }
   ],
   "source": [
    "print(f\"predict_wrong_rel_by_missing_head_tail: {len(transform_result['predict_wrong_rel_by_missing_head_tail'])}\")\n",
    "transform_result['predict_wrong_rel_by_missing_head_tail']"
   ]
  },
  {
   "cell_type": "code",
   "execution_count": 264,
   "metadata": {},
   "outputs": [
    {
     "name": "stdout",
     "output_type": "stream",
     "text": [
      "predict_wrong_rel_by_missing_head: 2\n"
     ]
    },
    {
     "data": {
      "text/plain": [
       "[{'h': (['Oru Minnaminunginte Nurunguvettam ,'], [[[4, 7], [4, 11]]]),\n",
       "  't': (['Ashwathy Kurup', 'Parvathy', 'Parvathy', 'Parvathy', 'Parvathy'],\n",
       "   [[[0, 0], [0, 2]],\n",
       "    [[0, 9], [0, 10]],\n",
       "    [[1, 0], [1, 1]],\n",
       "    [[5, 0], [5, 1]],\n",
       "    [[7, 3], [7, 4]]]),\n",
       "  'r': 'cast member'},\n",
       " {'h': (['Peruvannapurathe Visheshangal and Kireedam'], [[[4, 24], [4, 28]]]),\n",
       "  't': (['1989'], [[[4, 29], [4, 30]]]),\n",
       "  'r': 'publication date'}]"
      ]
     },
     "execution_count": 264,
     "metadata": {},
     "output_type": "execute_result"
    }
   ],
   "source": [
    "\n",
    "print(f\"predict_wrong_rel_by_missing_head: {len(transform_result['predict_wrong_rel_by_missing_head'])}\")\n",
    "transform_result['predict_wrong_rel_by_missing_head']"
   ]
  },
  {
   "cell_type": "code",
   "execution_count": 265,
   "metadata": {},
   "outputs": [
    {
     "name": "stdout",
     "output_type": "stream",
     "text": [
      "predict_wrong_rel_by_missing_tail: 1\n"
     ]
    },
    {
     "data": {
      "text/plain": [
       "[{'h': (['Ashwathy Kurup', 'Parvathy', 'Parvathy', 'Parvathy', 'Parvathy'],\n",
       "   [[[0, 0], [0, 2]],\n",
       "    [[0, 9], [0, 10]],\n",
       "    [[1, 0], [1, 1]],\n",
       "    [[5, 0], [5, 1]],\n",
       "    [[7, 3], [7, 4]]]),\n",
       "  't': (['Malayalam', 'Malayalam'], [[[0, 23], [0, 24]], [[1, 6], [1, 7]]]),\n",
       "  'r': 'languages spoken, written or signed'}]"
      ]
     },
     "execution_count": 265,
     "metadata": {},
     "output_type": "execute_result"
    }
   ],
   "source": [
    "print(f\"predict_wrong_rel_by_missing_tail: {len(transform_result['predict_wrong_rel_by_missing_tail'])}\")\n",
    "transform_result['predict_wrong_rel_by_missing_tail']"
   ]
  },
  {
   "cell_type": "code",
   "execution_count": 266,
   "metadata": {},
   "outputs": [
    {
     "name": "stdout",
     "output_type": "stream",
     "text": [
      "predict_wrong_rel_left: 3\n"
     ]
    },
    {
     "data": {
      "text/plain": [
       "[{'h': (['Kalidas Jayaram'], [[[9, 5], [9, 7]]]),\n",
       "  't': (['Malavika Jayaram'], [[[9, 8], [9, 10]]]),\n",
       "  'r': 'sibling'},\n",
       " {'h': (['Malavika Jayaram'], [[[9, 8], [9, 10]]]),\n",
       "  't': (['Kalidas Jayaram'], [[[9, 5], [9, 7]]]),\n",
       "  'r': 'sibling'},\n",
       " {'h': (['Jayaram'], [[[5, 4], [5, 5]]]),\n",
       "  't': (['Malavika Jayaram'], [[[9, 8], [9, 10]]]),\n",
       "  'r': 'child'}]"
      ]
     },
     "execution_count": 266,
     "metadata": {},
     "output_type": "execute_result"
    }
   ],
   "source": [
    "print(f\"predict_wrong_rel_left: {len(transform_result['predict_wrong_rel_left'])}\")\n",
    "transform_result['predict_wrong_rel_left']"
   ]
  },
  {
   "cell_type": "code",
   "execution_count": 267,
   "metadata": {},
   "outputs": [
    {
     "name": "stdout",
     "output_type": "stream",
     "text": [
      "golden_rel_predicted: 9\n"
     ]
    },
    {
     "data": {
      "text/plain": [
       "[{'h': (['Ashwathy Kurup', 'Parvathy', 'Parvathy', 'Parvathy', 'Parvathy'],\n",
       "   [[[0, 0], [0, 2]],\n",
       "    [[7, 3], [7, 4]],\n",
       "    [[5, 0], [5, 1]],\n",
       "    [[1, 0], [1, 1]],\n",
       "    [[0, 9], [0, 10]]]),\n",
       "  't': (['Kalidas Jayaram'], [[[9, 5], [9, 7]]]),\n",
       "  'r': 'child',\n",
       "  'evidence': [0, 9]},\n",
       " {'h': (['Ashwathy Kurup', 'Parvathy', 'Parvathy', 'Parvathy', 'Parvathy'],\n",
       "   [[[0, 0], [0, 2]],\n",
       "    [[7, 3], [7, 4]],\n",
       "    [[5, 0], [5, 1]],\n",
       "    [[1, 0], [1, 1]],\n",
       "    [[0, 9], [0, 10]]]),\n",
       "  't': (['Malavika Jayaram'], [[[9, 8], [9, 10]]]),\n",
       "  'r': 'child',\n",
       "  'evidence': [0, 9]},\n",
       " {'h': (['Jayaram'], [[[5, 4], [5, 5]]]),\n",
       "  't': (['Kalidas Jayaram'], [[[9, 5], [9, 7]]]),\n",
       "  'r': 'child',\n",
       "  'evidence': [9, 5]},\n",
       " {'h': (['Amrutham Gamaya'], [[[4, 4], [4, 6]]]),\n",
       "  't': (['Ashwathy Kurup', 'Parvathy', 'Parvathy', 'Parvathy', 'Parvathy'],\n",
       "   [[[0, 0], [0, 2]],\n",
       "    [[7, 3], [7, 4]],\n",
       "    [[5, 0], [5, 1]],\n",
       "    [[1, 0], [1, 1]],\n",
       "    [[0, 9], [0, 10]]]),\n",
       "  'r': 'cast member',\n",
       "  'evidence': [0, 4]},\n",
       " {'h': (['Thoovanathumbikal'], [[[4, 11], [4, 12]]]),\n",
       "  't': (['Ashwathy Kurup', 'Parvathy', 'Parvathy', 'Parvathy', 'Parvathy'],\n",
       "   [[[0, 0], [0, 2]],\n",
       "    [[7, 3], [7, 4]],\n",
       "    [[5, 0], [5, 1]],\n",
       "    [[1, 0], [1, 1]],\n",
       "    [[0, 9], [0, 10]]]),\n",
       "  'r': 'cast member',\n",
       "  'evidence': [0, 4]},\n",
       " {'h': (['Thoovanathumbikal'], [[[4, 11], [4, 12]]]),\n",
       "  't': (['1987'], [[[4, 13], [4, 14]]]),\n",
       "  'r': 'publication date',\n",
       "  'evidence': [4]},\n",
       " {'h': (['Ponmuttayidunna Tharavu'], [[[4, 16], [4, 18]]]),\n",
       "  't': (['Ashwathy Kurup', 'Parvathy', 'Parvathy', 'Parvathy', 'Parvathy'],\n",
       "   [[[0, 0], [0, 2]],\n",
       "    [[7, 3], [7, 4]],\n",
       "    [[5, 0], [5, 1]],\n",
       "    [[1, 0], [1, 1]],\n",
       "    [[0, 9], [0, 10]]]),\n",
       "  'r': 'cast member',\n",
       "  'evidence': [0, 4]},\n",
       " {'h': (['Ponmuttayidunna Tharavu'], [[[4, 16], [4, 18]]]),\n",
       "  't': (['1988'], [[[4, 19], [4, 20]]]),\n",
       "  'r': 'publication date',\n",
       "  'evidence': [4]},\n",
       " {'h': (['Vadakkunokkiyantram'], [[[4, 22], [4, 23]]]),\n",
       "  't': (['Ashwathy Kurup', 'Parvathy', 'Parvathy', 'Parvathy', 'Parvathy'],\n",
       "   [[[0, 0], [0, 2]],\n",
       "    [[7, 3], [7, 4]],\n",
       "    [[5, 0], [5, 1]],\n",
       "    [[1, 0], [1, 1]],\n",
       "    [[0, 9], [0, 10]]]),\n",
       "  'r': 'cast member',\n",
       "  'evidence': [0, 4]}]"
      ]
     },
     "execution_count": 267,
     "metadata": {},
     "output_type": "execute_result"
    }
   ],
   "source": [
    "print(f\"golden_rel_predicted: {len(transform_result['golden_rel_predicted'])}\")\n",
    "transform_result['golden_rel_predicted']"
   ]
  },
  {
   "cell_type": "code",
   "execution_count": 268,
   "metadata": {},
   "outputs": [
    {
     "name": "stdout",
     "output_type": "stream",
     "text": [
      "golden_rel_missing_span: 9\n"
     ]
    },
    {
     "data": {
      "text/plain": [
       "[{'h': (['None'], ['None']),\n",
       "  't': (['Ashwathy Kurup', 'Parvathy', 'Parvathy', 'Parvathy', 'Parvathy'],\n",
       "   [[[0, 0], [0, 2]],\n",
       "    [[7, 3], [7, 4]],\n",
       "    [[5, 0], [5, 1]],\n",
       "    [[1, 0], [1, 1]],\n",
       "    [[0, 9], [0, 10]]]),\n",
       "  'r': 'cast member',\n",
       "  'evidence': [0, 4]},\n",
       " {'h': (['None'], ['None']),\n",
       "  't': (['Ashwathy Kurup', 'Parvathy', 'Parvathy', 'Parvathy', 'Parvathy'],\n",
       "   [[[0, 0], [0, 2]],\n",
       "    [[7, 3], [7, 4]],\n",
       "    [[5, 0], [5, 1]],\n",
       "    [[1, 0], [1, 1]],\n",
       "    [[0, 9], [0, 10]]]),\n",
       "  'r': 'cast member',\n",
       "  'evidence': [0, 4]},\n",
       " {'h': (['None'], ['None']),\n",
       "  't': (['Ashwathy Kurup', 'Parvathy', 'Parvathy', 'Parvathy', 'Parvathy'],\n",
       "   [[[0, 0], [0, 2]],\n",
       "    [[7, 3], [7, 4]],\n",
       "    [[5, 0], [5, 1]],\n",
       "    [[1, 0], [1, 1]],\n",
       "    [[0, 9], [0, 10]]]),\n",
       "  'r': 'cast member',\n",
       "  'evidence': [0, 4]},\n",
       " {'h': (['None'], ['None']),\n",
       "  't': (['1989'], [[[4, 29], [4, 30]]]),\n",
       "  'r': 'publication date',\n",
       "  'evidence': [4]},\n",
       " {'h': (['None'], ['None']),\n",
       "  't': (['Malayalam'], [[[0, 23], [0, 24]]]),\n",
       "  'r': 'original language of work',\n",
       "  'evidence': [0, 1, 4]},\n",
       " {'h': (['None'], ['None']),\n",
       "  't': (['Malayalam'], [[[0, 23], [0, 24]]]),\n",
       "  'r': 'original language of work',\n",
       "  'evidence': [0, 1, 4]},\n",
       " {'h': (['None'], ['None']),\n",
       "  't': (['Malayalam'], [[[0, 23], [0, 24]]]),\n",
       "  'r': 'original language of work',\n",
       "  'evidence': [0, 1, 4]},\n",
       " {'h': (['None'], ['None']),\n",
       "  't': (['1989'], [[[4, 29], [4, 30]]]),\n",
       "  'r': 'publication date',\n",
       "  'evidence': [4]},\n",
       " {'h': (['None'], ['None']),\n",
       "  't': (['1987'], [[[4, 13], [4, 14]]]),\n",
       "  'r': 'publication date',\n",
       "  'evidence': [4]}]"
      ]
     },
     "execution_count": 268,
     "metadata": {},
     "output_type": "execute_result"
    }
   ],
   "source": [
    "print(f\"golden_rel_missing_span: {len(transform_result['golden_rel_missing_span'])}\")\n",
    "transform_result['golden_rel_missing_span']"
   ]
  },
  {
   "cell_type": "code",
   "execution_count": 269,
   "metadata": {},
   "outputs": [
    {
     "name": "stdout",
     "output_type": "stream",
     "text": [
      "golden_rel_missing_head_and_tail: 0\n"
     ]
    },
    {
     "data": {
      "text/plain": [
       "[]"
      ]
     },
     "execution_count": 269,
     "metadata": {},
     "output_type": "execute_result"
    }
   ],
   "source": [
    "print(f\"golden_rel_missing_head_and_tail: {len(transform_result['golden_rel_missing_head_and_tail'])}\")\n",
    "transform_result['golden_rel_missing_head_and_tail']"
   ]
  },
  {
   "cell_type": "code",
   "execution_count": 270,
   "metadata": {},
   "outputs": [
    {
     "name": "stdout",
     "output_type": "stream",
     "text": [
      "golden_rel_missing_head: 0\n"
     ]
    },
    {
     "data": {
      "text/plain": [
       "[]"
      ]
     },
     "execution_count": 270,
     "metadata": {},
     "output_type": "execute_result"
    }
   ],
   "source": [
    "print(f\"golden_rel_missing_head: {len(transform_result['golden_rel_missing_head'])}\")\n",
    "transform_result['golden_rel_missing_head']"
   ]
  },
  {
   "cell_type": "code",
   "execution_count": 271,
   "metadata": {},
   "outputs": [
    {
     "name": "stdout",
     "output_type": "stream",
     "text": [
      "golden_rel_missing_tail: 3\n"
     ]
    },
    {
     "data": {
      "text/plain": [
       "[{'h': (['Thoovanathumbikal'], [[[4, 11], [4, 12]]]),\n",
       "  't': (['Malayalam'], [[[0, 23], [0, 24]]]),\n",
       "  'r': 'original language of work',\n",
       "  'evidence': [0, 1, 4]},\n",
       " {'h': (['Ponmuttayidunna Tharavu'], [[[4, 16], [4, 18]]]),\n",
       "  't': (['Malayalam'], [[[0, 23], [0, 24]]]),\n",
       "  'r': 'original language of work',\n",
       "  'evidence': [0, 1, 4]},\n",
       " {'h': (['Vadakkunokkiyantram'], [[[4, 22], [4, 23]]]),\n",
       "  't': (['Malayalam'], [[[0, 23], [0, 24]]]),\n",
       "  'r': 'original language of work',\n",
       "  'evidence': [0, 1, 4]}]"
      ]
     },
     "execution_count": 271,
     "metadata": {},
     "output_type": "execute_result"
    }
   ],
   "source": [
    "print(f\"golden_rel_missing_tail: {len(transform_result['golden_rel_missing_tail'])}\")\n",
    "transform_result['golden_rel_missing_tail']"
   ]
  },
  {
   "cell_type": "code",
   "execution_count": 272,
   "metadata": {},
   "outputs": [
    {
     "name": "stdout",
     "output_type": "stream",
     "text": [
      "golden_rel_not_predicted: 8\n"
     ]
    },
    {
     "data": {
      "text/plain": [
       "[{'h': (['Ashwathy Kurup', 'Parvathy', 'Parvathy', 'Parvathy', 'Parvathy'],\n",
       "   [[[0, 0], [0, 2]],\n",
       "    [[7, 3], [7, 4]],\n",
       "    [[5, 0], [5, 1]],\n",
       "    [[1, 0], [1, 1]],\n",
       "    [[0, 9], [0, 10]]]),\n",
       "  't': (['Jayaram'], [[[5, 4], [5, 5]]]),\n",
       "  'r': 'spouse',\n",
       "  'evidence': [5]},\n",
       " {'h': (['Jayaram'], [[[5, 4], [5, 5]]]),\n",
       "  't': (['Ashwathy Kurup', 'Parvathy', 'Parvathy', 'Parvathy', 'Parvathy'],\n",
       "   [[[0, 0], [0, 2]],\n",
       "    [[7, 3], [7, 4]],\n",
       "    [[5, 0], [5, 1]],\n",
       "    [[1, 0], [1, 1]],\n",
       "    [[0, 9], [0, 10]]]),\n",
       "  'r': 'spouse',\n",
       "  'evidence': [5]},\n",
       " {'h': (['Kalidas Jayaram'], [[[9, 5], [9, 7]]]),\n",
       "  't': (['Ashwathy Kurup', 'Parvathy', 'Parvathy', 'Parvathy', 'Parvathy'],\n",
       "   [[[0, 0], [0, 2]],\n",
       "    [[7, 3], [7, 4]],\n",
       "    [[5, 0], [5, 1]],\n",
       "    [[1, 0], [1, 1]],\n",
       "    [[0, 9], [0, 10]]]),\n",
       "  'r': 'mother',\n",
       "  'evidence': [0, 9]},\n",
       " {'h': (['Kalidas Jayaram'], [[[9, 5], [9, 7]]]),\n",
       "  't': (['Jayaram'], [[[5, 4], [5, 5]]]),\n",
       "  'r': 'father',\n",
       "  'evidence': [9, 5]},\n",
       " {'h': (['Vivahithare Ithile'], [[[3, 13], [3, 15]]]),\n",
       "  't': (['Balachandra Menon'], [[[3, 10], [3, 12]]]),\n",
       "  'r': 'director',\n",
       "  'evidence': [3]},\n",
       " {'h': (['Vivahithare Ithile'], [[[3, 13], [3, 15]]]),\n",
       "  't': (['1986'], [[[3, 16], [3, 17]]]),\n",
       "  'r': 'publication date',\n",
       "  'evidence': [3]},\n",
       " {'h': (['Vadakkunokkiyantram'], [[[4, 22], [4, 23]]]),\n",
       "  't': (['1989'], [[[4, 29], [4, 30]]]),\n",
       "  'r': 'publication date',\n",
       "  'evidence': [4]},\n",
       " {'h': (['Amrutham Gamaya'], [[[4, 4], [4, 6]]]),\n",
       "  't': (['1987'], [[[4, 13], [4, 14]]]),\n",
       "  'r': 'publication date',\n",
       "  'evidence': [4]}]"
      ]
     },
     "execution_count": 272,
     "metadata": {},
     "output_type": "execute_result"
    }
   ],
   "source": [
    "print(f\"golden_rel_not_predicted: {len(transform_result['golden_rel_not_predicted'])}\")\n",
    "transform_result['golden_rel_not_predicted']"
   ]
  },
  {
   "cell_type": "code",
   "execution_count": 273,
   "metadata": {},
   "outputs": [],
   "source": [
    "# transformer data\n",
    "dict_list_to_be_save = []\n",
    "for row in data:\n",
    "    dict_list_to_be_save.append(transform_row(row, id2rel_info, id2rel))"
   ]
  },
  {
   "cell_type": "code",
   "execution_count": 274,
   "metadata": {},
   "outputs": [],
   "source": [
    "# # save as csv\n",
    "# save_path = 'report/csv_report.csv'\n",
    "\n",
    "# import csv\n",
    "# fieldnames = set().union(*(d.keys() for d in dict_list_to_be_save))\n",
    "# # 使用字典的键作为CSV的列头\n",
    "# with open(save_path, 'w', newline='') as csvfile:\n",
    "#     writer = csv.DictWriter(csvfile, fieldnames=fieldnames)\n",
    "#     writer.writeheader()\n",
    "#     writer.writerows(dict_list_to_be_save)\n",
    "\n",
    "# # save as json\n",
    "# json_file_path = \"report/json_report.json\"\n",
    "# with open(json_file_path, \"w\") as f:\n",
    "#     json.dump(dict_list_to_be_save, f)"
   ]
  },
  {
   "cell_type": "code",
   "execution_count": 275,
   "metadata": {},
   "outputs": [
    {
     "data": {
      "text/plain": [
       "{'gold_rel_predicted_right_cnt_mention_2': 2119,\n",
       " 'gold_rel_predicted_right_cnt_mention_3': 1008,\n",
       " 'gold_rel_predicted_right_cnt_mention_4': 681,\n",
       " 'gold_rel_predicted_right_cnt_mention_5': 888,\n",
       " 'gold_rel_predicted_wrong_left_cnt_mention_2': 1595,\n",
       " 'gold_rel_predicted_wrong_left_cnt_mention_3': 766,\n",
       " 'gold_rel_predicted_wrong_left_cnt_mention_4': 435,\n",
       " 'gold_rel_predicted_wrong_left_cnt_mention_5': 577}"
      ]
     },
     "execution_count": 275,
     "metadata": {},
     "output_type": "execute_result"
    }
   ],
   "source": [
    "def caculate_mentions_rels(transformed_data):\n",
    "    gold_rel_predicted_right_cnt_mention_2 = 0\n",
    "    gold_rel_predicted_right_cnt_mention_3 = 0\n",
    "    gold_rel_predicted_right_cnt_mention_4 = 0\n",
    "    gold_rel_predicted_right_cnt_mention_5 = 0\n",
    "    \n",
    "    gold_rel_predicted_wrong_left_cnt_mention_2 = 0\n",
    "    gold_rel_predicted_wrong_left_cnt_mention_3 = 0\n",
    "    gold_rel_predicted_wrong_left_cnt_mention_4 = 0\n",
    "    gold_rel_predicted_wrong_left_cnt_mention_5 = 0\n",
    "    \n",
    "    for row in transformed_data:\n",
    "        for rel in row['golden_rel_predicted']:\n",
    "            if len(rel['h'][0]) + len(rel['t'][0]) == 2:\n",
    "                gold_rel_predicted_right_cnt_mention_2 += 1\n",
    "            elif len(rel['h'][0]) + len(rel['t'][0]) == 3:\n",
    "                gold_rel_predicted_right_cnt_mention_3 += 1\n",
    "            elif len(rel['h'][0]) + len(rel['t'][0]) == 4:\n",
    "                gold_rel_predicted_right_cnt_mention_4 += 1\n",
    "            elif len(rel['h'][0]) + len(rel['t'][0]) >= 5:\n",
    "                gold_rel_predicted_right_cnt_mention_5 += 1\n",
    "        for rel in row['golden_rel_not_predicted']:\n",
    "            if len(rel['h'][0]) + len(rel['t'][0]) == 2:\n",
    "                gold_rel_predicted_wrong_left_cnt_mention_2 += 1\n",
    "            elif len(rel['h'][0]) + len(rel['t'][0]) == 3:\n",
    "                gold_rel_predicted_wrong_left_cnt_mention_3 += 1\n",
    "            elif len(rel['h'][0]) + len(rel['t'][0]) == 4:\n",
    "                gold_rel_predicted_wrong_left_cnt_mention_4 += 1\n",
    "            elif len(rel['h'][0]) + len(rel['t'][0]) >= 5:\n",
    "                gold_rel_predicted_wrong_left_cnt_mention_5 += 1\n",
    "    \n",
    "    result = {}\n",
    "    result['gold_rel_predicted_right_cnt_mention_2'] = gold_rel_predicted_right_cnt_mention_2\n",
    "    result['gold_rel_predicted_right_cnt_mention_3'] = gold_rel_predicted_right_cnt_mention_3\n",
    "    result['gold_rel_predicted_right_cnt_mention_4'] = gold_rel_predicted_right_cnt_mention_4\n",
    "    result['gold_rel_predicted_right_cnt_mention_5'] = gold_rel_predicted_right_cnt_mention_5\n",
    "    \n",
    "    result['gold_rel_predicted_wrong_left_cnt_mention_2'] = gold_rel_predicted_wrong_left_cnt_mention_2\n",
    "    result['gold_rel_predicted_wrong_left_cnt_mention_3'] = gold_rel_predicted_wrong_left_cnt_mention_3\n",
    "    result['gold_rel_predicted_wrong_left_cnt_mention_4'] = gold_rel_predicted_wrong_left_cnt_mention_4\n",
    "    result['gold_rel_predicted_wrong_left_cnt_mention_5'] = gold_rel_predicted_wrong_left_cnt_mention_5\n",
    "    return result\n",
    "\n",
    "result = caculate_mentions_rels(dict_list_to_be_save)\n",
    "result"
   ]
  },
  {
   "cell_type": "code",
   "execution_count": 276,
   "metadata": {},
   "outputs": [],
   "source": [
    "def caculate_rels(transformed_data):\n",
    "    golden_rel_predicted_each_rel_cnt = {}\n",
    "    golden_rel_not_predicted_each_rel_cnt = {}\n",
    "    for row in transformed_data:\n",
    "        for rel in row['golden_rel_predicted']:\n",
    "            if rel['r'] not in golden_rel_predicted_each_rel_cnt:\n",
    "                golden_rel_predicted_each_rel_cnt[rel['r']] = 1\n",
    "            else:\n",
    "                golden_rel_predicted_each_rel_cnt[rel['r']] += 1\n",
    "        for rel in row['golden_rel_not_predicted']:\n",
    "            if rel['r'] not in golden_rel_not_predicted_each_rel_cnt:\n",
    "                golden_rel_not_predicted_each_rel_cnt[rel['r']] = 1\n",
    "            else:\n",
    "                golden_rel_not_predicted_each_rel_cnt[rel['r']] += 1\n",
    "    return golden_rel_predicted_each_rel_cnt, golden_rel_not_predicted_each_rel_cnt\n",
    "\n",
    "golden_rel_predicted_each_rel_cnt, golden_rel_not_predicted_each_rel_cnt = caculate_rels(dict_list_to_be_save)\n",
    "\n",
    "# import csv\n",
    "# each_rel_cnt_csv_report_path = \"report/each_rel_cnt.csv\"\n",
    "# headers = sorted(set(golden_rel_predicted_each_rel_cnt.keys()) | set(golden_rel_not_predicted_each_rel_cnt.keys()))\n",
    "# with open(each_rel_cnt_csv_report_path, 'w', newline='') as csvfile:\n",
    "#     writer = csv.writer(csvfile)\n",
    "\n",
    "#     writer.writerow(['', 'golden_rel_predicted', 'golden_rel_not_predicted'])\n",
    "#     for key in headers:\n",
    "#         writer.writerow([key, golden_rel_predicted_each_rel_cnt.get(key, '0'), golden_rel_not_predicted_each_rel_cnt.get(key, '0')])\n"
   ]
  }
 ],
 "metadata": {
  "kernelspec": {
   "display_name": "tag",
   "language": "python",
   "name": "python3"
  },
  "language_info": {
   "codemirror_mode": {
    "name": "ipython",
    "version": 3
   },
   "file_extension": ".py",
   "mimetype": "text/x-python",
   "name": "python",
   "nbconvert_exporter": "python",
   "pygments_lexer": "ipython3",
   "version": "3.8.10"
  }
 },
 "nbformat": 4,
 "nbformat_minor": 2
}
